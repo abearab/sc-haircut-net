{
 "cells": [
  {
   "cell_type": "markdown",
   "metadata": {},
   "source": [
    "> [Amanda L Richer, Kent A Riemondy, Lakotah Hardie, Jay R Hesselberth, **Simultaneous measurement of biochemical phenotypes and gene expression in single cells**, *Nucleic Acids Research*, (2020)](https://doi.org/10.1093/nar/gkaa240)\n",
    "\n",
    "> **Dataset:** Cell line models targeted with CRISPR technology and UNG<sup>KO</sup> and RNASEH2C<sup>KO</sup> used for single cell RNA experssion experiments (haicut-seq) in 3 timepoints. \n",
    "> - **Cell line:** Hap1 UNG<sup>KO</sup> (HZGHC001531c012) and RNASEH2C<sup>KO</sup> (HZGHC004633c003) cells.\n"
   ]
  },
  {
   "cell_type": "markdown",
   "metadata": {},
   "source": [
    "**Aim:** Find Transcription Factor (TF) and motifs with potential transcription regulatory functions in DNA repair phenotype \n",
    "\n",
    "**Method:** Gene Regulatory Network (GRN) analysis of time-series scRNA-seq experiments to "
   ]
  },
  {
   "cell_type": "markdown",
   "metadata": {},
   "source": [
    "## Gene-expression Regulatory Network"
   ]
  },
  {
   "cell_type": "markdown",
   "metadata": {},
   "source": [
    "- [Single-cell network biology for resolving cellular heterogeneity in human diseases](https://doi.org/10.1038/s12276-020-00528-0)"
   ]
  },
  {
   "cell_type": "markdown",
   "metadata": {},
   "source": [
    "> [**Evaluating methods of inferring gene regulatory networks highlights their lack of performance for single cell gene expression data**](https://doi.org/10.1186/s12859-018-2217-z)\n",
    "\n",
    "> 1. We found that single cell network inference methods do not necessarily have better performance than general methods, and even for the method that performed well for simulated data (SCODE), it did not have a higher prediction accuracy than other methods for the experimental single cell data. \n",
    "> 2. In addition, we found that when applied to simulated data without drop-out, **GENIE3** was the best performer amongst all general methods, while this did not generalize to the simulated ‘single cell’ data where drop-out was induced. \n",
    "> 3. From this study, we therefore conclude that for single cell data, either generated from experiments or simulations, these networks methods had consistently poor performance for reconstructing networks.\n",
    "> 4. Lastly, the PCA analysis shows that SCODE had a distinct pattern of prediction, while even the presumably similar methods (e.g., ARACNE and CLR are considered to be similar) did not consistently cluster together in the plots, indicating that their network topology was not necessarily more similar to each other than the other methods.\n",
    "> 5. **Reconstructing GRNs from gene expression data has been one of the most important topics in systems biology.** Therefore, evaluating the performance of existing algorithms and understanding their limitations when applied to a newer wave of data, such as single cell gene expression data, is extremely helpful to facilitate further development of new methodologies that are specific for single cells. Such models would further provide new opportunities to understand cell-to-cell heterogeneity, and other biologically interesting questions such as stem cell differentiation and cancer development.\n",
    "\n"
   ]
  },
  {
   "cell_type": "markdown",
   "metadata": {},
   "source": [
    "> [**PySCNet: A tool for reconstructing and analyzing gene regulatory network from single-cell RNA-Seq data**](https://www.biorxiv.org/content/10.1101/2020.12.18.423482v1)\n",
    "\n",
    "> PySCNet accommodates an extensive variety of GRN construction algorithms, graph based\n",
    "techniques and a user-friendly interface to investigate regulatory relationships among genes and\n",
    "transcription factors from single-cell RNA-seq data. Instead of following the mainstream analysis\n",
    "on cell behaviour, PySCNet opens a window to systematically inspect gene-gene / TF\n",
    "communication at single cell resolved level. \n",
    "https://github.com/MingBit/PySCNet\n"
   ]
  },
  {
   "cell_type": "markdown",
   "metadata": {},
   "source": [
    "> ### `GENIE3`\n",
    "> https://github.com/vahuynh/GENIE3\n",
    "\n",
    "> [GENIE3 bioconductor](https://bioconductor.org/packages/release/bioc/html/GENIE3.html)\n",
    "\n",
    "> [**dynGENIE3: dynamical GENIE3 for the inference of gene networks from time series expression data**\n",
    "](https://www.nature.com/articles/s41598-018-21715-0)\n",
    "\n",
    "> **The elucidation of gene regulatory networks is one of the major challenges of systems biology.** Measurements about genes that are exploited by network inference methods are typically available either in the form of steady-state expression vectors or time series expression data. In our previous work, we proposed the GENIE3 method that exploits variable importance scores derived from Random forests to identify the regulators of each target gene. This method provided state-of-the-art performance on several benchmark datasets, but it could however not specifically be applied to time series expression data. We propose here an adaptation of the GENIE3 method, called dynamical GENIE3 (dynGENIE3), for handling both time series and steady-state expression data. \n",
    "> https://github.com/vahuynh/dynGENIE3"
   ]
  },
  {
   "cell_type": "markdown",
   "metadata": {},
   "source": [
    "# pySCENIC\n",
    "\n",
    "> `pySCENIC` is a lightning-fast python implementation of the SCENIC pipeline (Single-Cell rEgulatory Network Inference and Clustering) which enables biologists to infer transcription factors, gene regulatory networks and cell types from single-cell RNA-seq data.\n",
    "\n",
    "- [SCENIC: single-cell regulatory network inference and clustering](https://www.nature.com/articles/nmeth.4463)\n",
    "- https://scenic.aertslab.org/\n",
    "- https://github.com/aertslab/pySCENIC\n",
    "<img src=\"https://scenic.aertslab.org/images/scenic_workflow_v2.png\" width=\"700\" align=\"center\"/>"
   ]
  },
  {
   "cell_type": "markdown",
   "metadata": {},
   "source": [
    "https://github.com/aertslab/SCENICprotocol/blob/master/notebooks/PBMC10k_SCENIC-protocol-CLI.ipynb"
   ]
  },
  {
   "cell_type": "code",
   "execution_count": 1,
   "metadata": {},
   "outputs": [],
   "source": [
    "import os, glob, re, pickle\n",
    "from functools import partial\n",
    "from collections import OrderedDict\n",
    "import operator as op\n",
    "from cytoolz import compose\n",
    "\n",
    "import pandas as pd\n",
    "import seaborn as sns\n",
    "import numpy as np\n",
    "import scanpy as sc\n",
    "import anndata as ad\n",
    "import loompy as lp\n",
    "import matplotlib as mpl\n",
    "import matplotlib.pyplot as plt\n",
    "\n",
    "from pyscenic.export import export2loom, add_scenic_metadata\n",
    "from pyscenic.utils import load_motifs\n",
    "from pyscenic.transform import df2regulons\n",
    "from pyscenic.aucell import aucell\n",
    "from pyscenic.binarization import binarize\n",
    "from pyscenic.rss import regulon_specificity_scores\n",
    "from pyscenic.plotting import plot_binarization, plot_rss\n",
    "\n",
    "from IPython.display import HTML, display"
   ]
  },
  {
   "cell_type": "markdown",
   "metadata": {},
   "source": [
    "Write filtered `loom` file:"
   ]
  },
  {
   "cell_type": "code",
   "execution_count": 2,
   "metadata": {},
   "outputs": [],
   "source": [
    "adata = sc.read_h5ad('preprocessing/mix.h5ad.gz')\n",
    "f_loom_path_scenic = 'preprocessing/mix.loom'"
   ]
  },
  {
   "cell_type": "code",
   "execution_count": 3,
   "metadata": {},
   "outputs": [],
   "source": [
    "# # create basic row and column attributes for the loom file:\n",
    "# row_attrs = {\n",
    "#     \"Gene\": np.array(adata.var_names) ,\n",
    "# }\n",
    "# col_attrs = {\n",
    "#     \"CellID\": np.array(adata.obs_names) ,\n",
    "#     \"nGene\": np.array( np.sum(adata.X.transpose()>0 , axis=0)).flatten() ,\n",
    "#     \"nUMI\": np.array( np.sum(adata.X.transpose() , axis=0)).flatten() ,\n",
    "# }\n",
    "# lp.create( f_loom_path_scenic, adata.X.transpose(), row_attrs, col_attrs)\n"
   ]
  },
  {
   "cell_type": "markdown",
   "metadata": {},
   "source": [
    "### Download resources"
   ]
  },
  {
   "cell_type": "code",
   "execution_count": 4,
   "metadata": {},
   "outputs": [
    {
     "name": "stdout",
     "output_type": "stream",
     "text": [
      "mkdir: SCENIC: File exists\n",
      "mkdir: SCENIC/resources: File exists\n"
     ]
    }
   ],
   "source": [
    "!mkdir SCENIC\n",
    "!mkdir SCENIC/resources"
   ]
  },
  {
   "cell_type": "markdown",
   "metadata": {},
   "source": [
    "_Download auxiliary files: list of TFs, ranking databases and motif annotations (for human, in this example):_\n",
    "\n",
    "source: https://www.nature.com/articles/s41596-020-0336-2"
   ]
  },
  {
   "cell_type": "raw",
   "metadata": {},
   "source": [
    "# transcription factors:\n",
    "wget https://raw.githubusercontent.com/aertslab/pySCENIC/master/resources/hs_hgnc_tfs.txt\n",
    "\n",
    "# motif to TF annotation database:\n",
    "wget https://resources.aertslab.org/cistarget/motif2tf/motifs-v9-nr.hgnc-m0.001-o0.0.tbl\n",
    "\n",
    "# genome ranking database:\n",
    "wget https://resources.aertslab.org/cistarget/databases/homo_sapiens/hg38/refseq_r80/mc9nr/gene_based/hg38__refseq-r80__10kb_up_and_down_tss.mc9nr.feather"
   ]
  },
  {
   "cell_type": "code",
   "execution_count": 5,
   "metadata": {
    "scrolled": true
   },
   "outputs": [
    {
     "name": "stdout",
     "output_type": "stream",
     "text": [
      "hs_hgnc_tfs.txt\r\n"
     ]
    }
   ],
   "source": [
    "ls SCENIC/resources/"
   ]
  },
  {
   "cell_type": "markdown",
   "metadata": {},
   "source": [
    "## SCENIC steps"
   ]
  },
  {
   "cell_type": "code",
   "execution_count": 6,
   "metadata": {},
   "outputs": [],
   "source": [
    "RESOURCES_FOLDERNAME = \"SCENIC/resources\"\n",
    "RESULTS_FOLDERNAME = \"SCENIC/results\"\n",
    "FIGURES_FOLDERNAME = \"SCENIC/figures\""
   ]
  },
  {
   "cell_type": "code",
   "execution_count": 7,
   "metadata": {},
   "outputs": [],
   "source": [
    "BASE_URL = \"http://motifcollections.aertslab.org/v9/logos/\"\n",
    "COLUMN_NAME_LOGO = \"MotifLogo\"\n",
    "COLUMN_NAME_MOTIF_ID = \"MotifID\"\n",
    "COLUMN_NAME_TARGETS = \"TargetGenes\""
   ]
  },
  {
   "cell_type": "code",
   "execution_count": 8,
   "metadata": {},
   "outputs": [],
   "source": [
    "sc.settings.figdir = FIGURES_FOLDERNAME"
   ]
  },
  {
   "cell_type": "code",
   "execution_count": 9,
   "metadata": {},
   "outputs": [],
   "source": [
    "# Set maximum number of jobs for Scanpy.\n",
    "sc.settings.njobs = 4"
   ]
  },
  {
   "cell_type": "markdown",
   "metadata": {},
   "source": [
    "Auxilliary functions."
   ]
  },
  {
   "cell_type": "code",
   "execution_count": 10,
   "metadata": {},
   "outputs": [],
   "source": [
    "def savesvg(fname: str, fig, folder: str=FIGURES_FOLDERNAME) -> None:\n",
    "    \"\"\"\n",
    "    Save figure as vector-based SVG image format.\n",
    "    \"\"\"\n",
    "    fig.tight_layout()\n",
    "    fig.savefig(os.path.join(folder, fname), format='svg')"
   ]
  },
  {
   "cell_type": "code",
   "execution_count": 11,
   "metadata": {},
   "outputs": [],
   "source": [
    "def display_logos(df: pd.DataFrame, top_target_genes: int = 3, base_url: str = BASE_URL):\n",
    "    \"\"\"\n",
    "    :param df:\n",
    "    :param base_url:\n",
    "    \"\"\"\n",
    "    # Make sure the original dataframe is not altered.\n",
    "    df = df.copy()\n",
    "    \n",
    "    # Add column with URLs to sequence logo.\n",
    "    def create_url(motif_id):\n",
    "        return '<img src=\"{}{}.png\" style=\"max-height:124px;\"></img>'.format(base_url, motif_id)\n",
    "    df[(\"Enrichment\", COLUMN_NAME_LOGO)] = list(map(create_url, df.index.get_level_values(COLUMN_NAME_MOTIF_ID)))\n",
    "    \n",
    "    # Truncate TargetGenes.\n",
    "    def truncate(col_val):\n",
    "        return sorted(col_val, key=op.itemgetter(1))[:top_target_genes]\n",
    "    df[(\"Enrichment\", COLUMN_NAME_TARGETS)] = list(map(truncate, df[(\"Enrichment\", COLUMN_NAME_TARGETS)]))\n",
    "    \n",
    "    MAX_COL_WIDTH = pd.get_option('display.max_colwidth')\n",
    "    pd.set_option('display.max_colwidth', -1)\n",
    "    display(HTML(df.head().to_html(escape=False)))\n",
    "    pd.set_option('display.max_colwidth', MAX_COL_WIDTH)"
   ]
  },
  {
   "cell_type": "markdown",
   "metadata": {},
   "source": [
    "## STEP 1: Gene regulatory network inference, and generation of co-expression modules\n",
    "### Phase Ia: GRN inference using the GRNBoost2 algorithm\n",
    "For this step the CLI version of SCENIC is used. This step can be deployed on an High Performance Computing system. \n",
    "\n",
    "We use the counts matrix (without log transformation or further processing) from the loom file we wrote earlier. \n",
    "\n",
    "**Output:** List of adjacencies between a TF and its targets stored in ADJACENCIES_FNAME."
   ]
  },
  {
   "cell_type": "code",
   "execution_count": 12,
   "metadata": {},
   "outputs": [],
   "source": [
    "DATASET_ID = 'mix'\n",
    "\n",
    "ADJACENCIES_FNAME = f'{RESULTS_FOLDERNAME}/{DATASET_ID}.adjacencies.tsv'\n",
    "MOTIFS_FNAME = f'{RESULTS_FOLDERNAME}/{DATASET_ID}.motifs.csv'\n",
    "REGULONS_DAT_FNAME = f'{RESULTS_FOLDERNAME}/{DATASET_ID}.regulons.dat'\n",
    "AUCELL_MTX_FNAME = f'{RESULTS_FOLDERNAME}/{DATASET_ID}.auc.csv'\n",
    "BIN_MTX_FNAME = f'{RESULTS_FOLDERNAME}/{DATASET_ID}.bin.csv'\n",
    "THR_FNAME = f'{RESULTS_FOLDERNAME}/{DATASET_ID}.thresholds.csv'\n",
    "ANNDATA_FNAME = f'{RESULTS_FOLDERNAME}/{DATASET_ID}.h5ad'\n",
    "LOOM_FNAME = f'{RESULTS_FOLDERNAME}/{DATASET_ID}.loom'"
   ]
  },
  {
   "cell_type": "code",
   "execution_count": 13,
   "metadata": {},
   "outputs": [],
   "source": [
    "# transcription factors\n",
    "HUMAN_TFS_FNAME = f'{RESOURCES_FOLDERNAME}/hs_hgnc_tfs.txt'\n",
    "# ranking databases\n",
    "RANKING_DBS_FNAME = f'{RESOURCES_FOLDERNAME}/hg38__refseq-r80__10kb_up_and_down_tss.mc9nr.feather'\n",
    "# motif databases\n",
    "MOTIF_ANNOTATIONS_FNAME = f'{RESOURCES_FOLDERNAME}/motifs-v9-nr.hgnc-m0.001-o0.0.tbl'"
   ]
  },
  {
   "cell_type": "code",
   "execution_count": 14,
   "metadata": {},
   "outputs": [],
   "source": [
    "mkdir -p SCENIC/results"
   ]
  },
  {
   "cell_type": "code",
   "execution_count": 15,
   "metadata": {},
   "outputs": [],
   "source": [
    "# !pyscenic grn {f_loom_path_scenic} {HUMAN_TFS_FNAME} -o {ADJACENCIES_FNAME} --num_workers 4"
   ]
  },
  {
   "cell_type": "markdown",
   "metadata": {},
   "source": [
    "https://pyscenic.readthedocs.io/en/latest/faq.html#i-am-having-problems-with-dask"
   ]
  },
  {
   "cell_type": "code",
   "execution_count": null,
   "metadata": {
    "scrolled": true
   },
   "outputs": [
    {
     "name": "stdout",
     "output_type": "stream",
     "text": [
      "Loaded expression matrix of 4865 cells and 18292 genes in 2.8737986087799072 seconds...\n",
      "Loaded 1839 TFs...\n",
      "starting genie3 using 8 processes...\n",
      " 32%|██████████▊                       | 5833/18292 [4:40:23<7:47:22,  2.25s/it]"
     ]
    }
   ],
   "source": [
    "!arboreto_with_multiprocessing.py \\\n",
    "    {f_loom_path_scenic} \\\n",
    "    {HUMAN_TFS_FNAME} \\\n",
    "    --method genie3 \\\n",
    "    --output {ADJACENCIES_FNAME} --num_workers 8"
   ]
  },
  {
   "cell_type": "markdown",
   "metadata": {},
   "source": [
    "Read in the adjacencies matrix:"
   ]
  },
  {
   "cell_type": "code",
   "execution_count": 12,
   "metadata": {},
   "outputs": [],
   "source": [
    "adjacencies = pd.read_csv(ADJACENCIES_FNAME, index_col=False, sep='\\t')"
   ]
  },
  {
   "cell_type": "code",
   "execution_count": 39,
   "metadata": {},
   "outputs": [],
   "source": [
    "adjacencies.to_csv(f'{ADJACENCIES_FNAME}.gz', index=None, compression='gzip', sep='\\t')"
   ]
  },
  {
   "cell_type": "code",
   "execution_count": 26,
   "metadata": {
    "scrolled": true
   },
   "outputs": [
    {
     "data": {
      "text/plain": [
       "'SCENIC/results/mix.adjacencies.tsv'"
      ]
     },
     "execution_count": 26,
     "metadata": {},
     "output_type": "execute_result"
    }
   ],
   "source": [
    "ADJACENCIES_FNAME"
   ]
  },
  {
   "cell_type": "code",
   "execution_count": 17,
   "metadata": {},
   "outputs": [
    {
     "name": "stdout",
     "output_type": "stream",
     "text": [
      "CPU times: user 14.7 s, sys: 1.29 s, total: 16 s\n",
      "Wall time: 16.1 s\n"
     ]
    }
   ],
   "source": [
    "%%time \n",
    "adjacencies = pd.read_csv(f'{ADJACENCIES_FNAME}.gz', index_col=False, sep='\\t')"
   ]
  },
  {
   "cell_type": "code",
   "execution_count": 282,
   "metadata": {},
   "outputs": [
    {
     "data": {
      "text/html": [
       "<div>\n",
       "<style scoped>\n",
       "    .dataframe tbody tr th:only-of-type {\n",
       "        vertical-align: middle;\n",
       "    }\n",
       "\n",
       "    .dataframe tbody tr th {\n",
       "        vertical-align: top;\n",
       "    }\n",
       "\n",
       "    .dataframe thead th {\n",
       "        text-align: right;\n",
       "    }\n",
       "</style>\n",
       "<table border=\"1\" class=\"dataframe\">\n",
       "  <thead>\n",
       "    <tr style=\"text-align: right;\">\n",
       "      <th></th>\n",
       "      <th>TF</th>\n",
       "      <th>target</th>\n",
       "      <th>importance</th>\n",
       "    </tr>\n",
       "  </thead>\n",
       "  <tbody>\n",
       "    <tr>\n",
       "      <th>0</th>\n",
       "      <td>RPS4X</td>\n",
       "      <td>RPL36A</td>\n",
       "      <td>0.065688</td>\n",
       "    </tr>\n",
       "    <tr>\n",
       "      <th>1</th>\n",
       "      <td>RPS4X</td>\n",
       "      <td>RPL10</td>\n",
       "      <td>0.062242</td>\n",
       "    </tr>\n",
       "    <tr>\n",
       "      <th>2</th>\n",
       "      <td>RPS10</td>\n",
       "      <td>RPS16</td>\n",
       "      <td>0.060746</td>\n",
       "    </tr>\n",
       "    <tr>\n",
       "      <th>3</th>\n",
       "      <td>RPL35</td>\n",
       "      <td>RPS10</td>\n",
       "      <td>0.060129</td>\n",
       "    </tr>\n",
       "    <tr>\n",
       "      <th>4</th>\n",
       "      <td>RPS10</td>\n",
       "      <td>RPS15A</td>\n",
       "      <td>0.060007</td>\n",
       "    </tr>\n",
       "  </tbody>\n",
       "</table>\n",
       "</div>"
      ],
      "text/plain": [
       "      TF  target  importance\n",
       "0  RPS4X  RPL36A    0.065688\n",
       "1  RPS4X   RPL10    0.062242\n",
       "2  RPS10   RPS16    0.060746\n",
       "3  RPL35   RPS10    0.060129\n",
       "4  RPS10  RPS15A    0.060007"
      ]
     },
     "execution_count": 282,
     "metadata": {},
     "output_type": "execute_result"
    }
   ],
   "source": [
    "adjacencies.head()"
   ]
  },
  {
   "cell_type": "markdown",
   "metadata": {},
   "source": [
    "## STEP 2-3: Regulon prediction aka cisTarget from CLI"
   ]
  },
  {
   "cell_type": "markdown",
   "metadata": {},
   "source": [
    "For this step the CLI version of SCENIC is used. This step can be deployed on an High Performance Computing system.\n",
    "\n",
    "**Output:** List of adjacencies between a TF and its targets stored in MOTIFS_FNAME."
   ]
  },
  {
   "cell_type": "markdown",
   "metadata": {},
   "source": [
    "Here, we use the `--mask_dropouts` option, which affects how the correlation between TF and target genes is calculated during module creation. It is important to note that prior to pySCENIC v0.9.18, the default behavior was to mask dropouts, while in v0.9.18 and later, the correlation is performed using the entire set of cells (including those with zero expression). When using the `modules_from_adjacencies` function directly in python instead of via the command line, the `rho_mask_dropouts` option can be used to control this."
   ]
  },
  {
   "cell_type": "raw",
   "metadata": {
    "collapsed": true
   },
   "source": [
    "!pyscenic ctx {ADJACENCIES_FNAME} \\\n",
    "    {RANKING_DBS_FNAME} \\\n",
    "    --annotations_fname {MOTIF_ANNOTATIONS_FNAME} \\\n",
    "    --expression_mtx_fname {f_loom_path_scenic} \\\n",
    "    --output {MOTIFS_FNAME} \\\n",
    "    --mask_dropouts \\\n",
    "    --num_workers 8"
   ]
  },
  {
   "cell_type": "code",
   "execution_count": 18,
   "metadata": {},
   "outputs": [
    {
     "name": "stdout",
     "output_type": "stream",
     "text": [
      "CPU times: user 10.5 s, sys: 217 ms, total: 10.7 s\n",
      "Wall time: 10.8 s\n"
     ]
    }
   ],
   "source": [
    "%%time \n",
    "df_motifs = load_motifs(MOTIFS_FNAME)"
   ]
  },
  {
   "cell_type": "code",
   "execution_count": 19,
   "metadata": {},
   "outputs": [
    {
     "data": {
      "text/html": [
       "<div>\n",
       "<style scoped>\n",
       "    .dataframe tbody tr th:only-of-type {\n",
       "        vertical-align: middle;\n",
       "    }\n",
       "\n",
       "    .dataframe tbody tr th {\n",
       "        vertical-align: top;\n",
       "    }\n",
       "\n",
       "    .dataframe thead tr th {\n",
       "        text-align: left;\n",
       "    }\n",
       "\n",
       "    .dataframe thead tr:last-of-type th {\n",
       "        text-align: right;\n",
       "    }\n",
       "</style>\n",
       "<table border=\"1\" class=\"dataframe\">\n",
       "  <thead>\n",
       "    <tr>\n",
       "      <th></th>\n",
       "      <th></th>\n",
       "      <th colspan=\"8\" halign=\"left\">Enrichment</th>\n",
       "    </tr>\n",
       "    <tr>\n",
       "      <th></th>\n",
       "      <th></th>\n",
       "      <th>AUC</th>\n",
       "      <th>NES</th>\n",
       "      <th>MotifSimilarityQvalue</th>\n",
       "      <th>OrthologousIdentity</th>\n",
       "      <th>Annotation</th>\n",
       "      <th>Context</th>\n",
       "      <th>TargetGenes</th>\n",
       "      <th>RankAtMax</th>\n",
       "    </tr>\n",
       "    <tr>\n",
       "      <th>TF</th>\n",
       "      <th>MotifID</th>\n",
       "      <th></th>\n",
       "      <th></th>\n",
       "      <th></th>\n",
       "      <th></th>\n",
       "      <th></th>\n",
       "      <th></th>\n",
       "      <th></th>\n",
       "      <th></th>\n",
       "    </tr>\n",
       "  </thead>\n",
       "  <tbody>\n",
       "    <tr>\n",
       "      <th>ALX1</th>\n",
       "      <th>taipale__ALX4_DBD_NTAATYNRATTAN</th>\n",
       "      <td>0.065212</td>\n",
       "      <td>3.014227</td>\n",
       "      <td>0.000023</td>\n",
       "      <td>1.0</td>\n",
       "      <td>motif similar to cisbp__M5311 ('ALX1[gene ID: ...</td>\n",
       "      <td>(hg38__refseq-r80__10kb_up_and_down_tss.mc9nr,...</td>\n",
       "      <td>[(PCGF1, 0.0019230467712708765), (ZNF536, 0.00...</td>\n",
       "      <td>1074</td>\n",
       "    </tr>\n",
       "    <tr>\n",
       "      <th rowspan=\"4\" valign=\"top\">ATF1</th>\n",
       "      <th>dbcorrdb__ATF3__ENCSR000BKC_1__m1</th>\n",
       "      <td>0.056011</td>\n",
       "      <td>3.726154</td>\n",
       "      <td>0.000000</td>\n",
       "      <td>1.0</td>\n",
       "      <td>motif similar to dbcorrdb__ATF1__ENCSR000DNZ_1...</td>\n",
       "      <td>(hg38__refseq-r80__10kb_up_and_down_tss.mc9nr,...</td>\n",
       "      <td>[(EFNA3, 0.0016309332074794338), (DVL2, 0.0009...</td>\n",
       "      <td>1143</td>\n",
       "    </tr>\n",
       "    <tr>\n",
       "      <th>dbcorrdb__ATF3__ENCSR000DOG_1__m1</th>\n",
       "      <td>0.055088</td>\n",
       "      <td>3.593066</td>\n",
       "      <td>0.000197</td>\n",
       "      <td>1.0</td>\n",
       "      <td>motif similar to transfac_pro__M01861 ('V$ATF1...</td>\n",
       "      <td>(hg38__refseq-r80__10kb_up_and_down_tss.mc9nr,...</td>\n",
       "      <td>[(EFNA3, 0.0016309332074794338), (DVL2, 0.0009...</td>\n",
       "      <td>4935</td>\n",
       "    </tr>\n",
       "    <tr>\n",
       "      <th>dbcorrdb__POLR2AphosphoS2__ENCSR000ECT_1__m1</th>\n",
       "      <td>0.051899</td>\n",
       "      <td>3.133225</td>\n",
       "      <td>0.000646</td>\n",
       "      <td>1.0</td>\n",
       "      <td>motif similar to dbcorrdb__ATF1__ENCSR000DNZ_1...</td>\n",
       "      <td>(hg38__refseq-r80__10kb_up_and_down_tss.mc9nr,...</td>\n",
       "      <td>[(CPSF7, 0.001378945453032339), (AP5M1, 0.0010...</td>\n",
       "      <td>4950</td>\n",
       "    </tr>\n",
       "    <tr>\n",
       "      <th>dbcorrdb__BRCA1__ENCSR000EDB_1__m1</th>\n",
       "      <td>0.053433</td>\n",
       "      <td>3.354375</td>\n",
       "      <td>0.000112</td>\n",
       "      <td>1.0</td>\n",
       "      <td>gene is annotated for similar motif dbcorrdb__...</td>\n",
       "      <td>(hg38__refseq-r80__10kb_up_and_down_tss.mc9nr,...</td>\n",
       "      <td>[(EFNA3, 0.0016309332074794338), (SMG5, 0.0012...</td>\n",
       "      <td>1124</td>\n",
       "    </tr>\n",
       "  </tbody>\n",
       "</table>\n",
       "</div>"
      ],
      "text/plain": [
       "                                                  Enrichment            \\\n",
       "                                                         AUC       NES   \n",
       "TF   MotifID                                                             \n",
       "ALX1 taipale__ALX4_DBD_NTAATYNRATTAN                0.065212  3.014227   \n",
       "ATF1 dbcorrdb__ATF3__ENCSR000BKC_1__m1              0.056011  3.726154   \n",
       "     dbcorrdb__ATF3__ENCSR000DOG_1__m1              0.055088  3.593066   \n",
       "     dbcorrdb__POLR2AphosphoS2__ENCSR000ECT_1__m1   0.051899  3.133225   \n",
       "     dbcorrdb__BRCA1__ENCSR000EDB_1__m1             0.053433  3.354375   \n",
       "\n",
       "                                                                         \\\n",
       "                                                  MotifSimilarityQvalue   \n",
       "TF   MotifID                                                              \n",
       "ALX1 taipale__ALX4_DBD_NTAATYNRATTAN                           0.000023   \n",
       "ATF1 dbcorrdb__ATF3__ENCSR000BKC_1__m1                         0.000000   \n",
       "     dbcorrdb__ATF3__ENCSR000DOG_1__m1                         0.000197   \n",
       "     dbcorrdb__POLR2AphosphoS2__ENCSR000ECT_1__m1              0.000646   \n",
       "     dbcorrdb__BRCA1__ENCSR000EDB_1__m1                        0.000112   \n",
       "\n",
       "                                                                       \\\n",
       "                                                  OrthologousIdentity   \n",
       "TF   MotifID                                                            \n",
       "ALX1 taipale__ALX4_DBD_NTAATYNRATTAN                              1.0   \n",
       "ATF1 dbcorrdb__ATF3__ENCSR000BKC_1__m1                            1.0   \n",
       "     dbcorrdb__ATF3__ENCSR000DOG_1__m1                            1.0   \n",
       "     dbcorrdb__POLR2AphosphoS2__ENCSR000ECT_1__m1                 1.0   \n",
       "     dbcorrdb__BRCA1__ENCSR000EDB_1__m1                           1.0   \n",
       "\n",
       "                                                                                                      \\\n",
       "                                                                                          Annotation   \n",
       "TF   MotifID                                                                                           \n",
       "ALX1 taipale__ALX4_DBD_NTAATYNRATTAN               motif similar to cisbp__M5311 ('ALX1[gene ID: ...   \n",
       "ATF1 dbcorrdb__ATF3__ENCSR000BKC_1__m1             motif similar to dbcorrdb__ATF1__ENCSR000DNZ_1...   \n",
       "     dbcorrdb__ATF3__ENCSR000DOG_1__m1             motif similar to transfac_pro__M01861 ('V$ATF1...   \n",
       "     dbcorrdb__POLR2AphosphoS2__ENCSR000ECT_1__m1  motif similar to dbcorrdb__ATF1__ENCSR000DNZ_1...   \n",
       "     dbcorrdb__BRCA1__ENCSR000EDB_1__m1            gene is annotated for similar motif dbcorrdb__...   \n",
       "\n",
       "                                                                                                      \\\n",
       "                                                                                             Context   \n",
       "TF   MotifID                                                                                           \n",
       "ALX1 taipale__ALX4_DBD_NTAATYNRATTAN               (hg38__refseq-r80__10kb_up_and_down_tss.mc9nr,...   \n",
       "ATF1 dbcorrdb__ATF3__ENCSR000BKC_1__m1             (hg38__refseq-r80__10kb_up_and_down_tss.mc9nr,...   \n",
       "     dbcorrdb__ATF3__ENCSR000DOG_1__m1             (hg38__refseq-r80__10kb_up_and_down_tss.mc9nr,...   \n",
       "     dbcorrdb__POLR2AphosphoS2__ENCSR000ECT_1__m1  (hg38__refseq-r80__10kb_up_and_down_tss.mc9nr,...   \n",
       "     dbcorrdb__BRCA1__ENCSR000EDB_1__m1            (hg38__refseq-r80__10kb_up_and_down_tss.mc9nr,...   \n",
       "\n",
       "                                                                                                      \\\n",
       "                                                                                         TargetGenes   \n",
       "TF   MotifID                                                                                           \n",
       "ALX1 taipale__ALX4_DBD_NTAATYNRATTAN               [(PCGF1, 0.0019230467712708765), (ZNF536, 0.00...   \n",
       "ATF1 dbcorrdb__ATF3__ENCSR000BKC_1__m1             [(EFNA3, 0.0016309332074794338), (DVL2, 0.0009...   \n",
       "     dbcorrdb__ATF3__ENCSR000DOG_1__m1             [(EFNA3, 0.0016309332074794338), (DVL2, 0.0009...   \n",
       "     dbcorrdb__POLR2AphosphoS2__ENCSR000ECT_1__m1  [(CPSF7, 0.001378945453032339), (AP5M1, 0.0010...   \n",
       "     dbcorrdb__BRCA1__ENCSR000EDB_1__m1            [(EFNA3, 0.0016309332074794338), (SMG5, 0.0012...   \n",
       "\n",
       "                                                             \n",
       "                                                  RankAtMax  \n",
       "TF   MotifID                                                 \n",
       "ALX1 taipale__ALX4_DBD_NTAATYNRATTAN                   1074  \n",
       "ATF1 dbcorrdb__ATF3__ENCSR000BKC_1__m1                 1143  \n",
       "     dbcorrdb__ATF3__ENCSR000DOG_1__m1                 4935  \n",
       "     dbcorrdb__POLR2AphosphoS2__ENCSR000ECT_1__m1      4950  \n",
       "     dbcorrdb__BRCA1__ENCSR000EDB_1__m1                1124  "
      ]
     },
     "execution_count": 19,
     "metadata": {},
     "output_type": "execute_result"
    }
   ],
   "source": [
    "df_motifs.head()"
   ]
  },
  {
   "cell_type": "markdown",
   "metadata": {},
   "source": [
    "Display the enriched motifs with their associated sequence logos."
   ]
  },
  {
   "cell_type": "code",
   "execution_count": 20,
   "metadata": {},
   "outputs": [
    {
     "name": "stderr",
     "output_type": "stream",
     "text": [
      "/Users/abearab/anaconda3/envs/sc-net/lib/python3.7/site-packages/ipykernel_launcher.py:20: FutureWarning: Passing a negative integer is deprecated in version 1.0 and will not be supported in future version. Instead, use None to not limit the column width.\n"
     ]
    },
    {
     "data": {
      "text/html": [
       "<table border=\"1\" class=\"dataframe\">\n",
       "  <thead>\n",
       "    <tr>\n",
       "      <th></th>\n",
       "      <th></th>\n",
       "      <th colspan=\"9\" halign=\"left\">Enrichment</th>\n",
       "    </tr>\n",
       "    <tr>\n",
       "      <th></th>\n",
       "      <th></th>\n",
       "      <th>AUC</th>\n",
       "      <th>NES</th>\n",
       "      <th>MotifSimilarityQvalue</th>\n",
       "      <th>OrthologousIdentity</th>\n",
       "      <th>Annotation</th>\n",
       "      <th>Context</th>\n",
       "      <th>TargetGenes</th>\n",
       "      <th>RankAtMax</th>\n",
       "      <th>MotifLogo</th>\n",
       "    </tr>\n",
       "    <tr>\n",
       "      <th>TF</th>\n",
       "      <th>MotifID</th>\n",
       "      <th></th>\n",
       "      <th></th>\n",
       "      <th></th>\n",
       "      <th></th>\n",
       "      <th></th>\n",
       "      <th></th>\n",
       "      <th></th>\n",
       "      <th></th>\n",
       "      <th></th>\n",
       "    </tr>\n",
       "  </thead>\n",
       "  <tbody>\n",
       "    <tr>\n",
       "      <th>ALX1</th>\n",
       "      <th>taipale__ALX4_DBD_NTAATYNRATTAN</th>\n",
       "      <td>0.065212</td>\n",
       "      <td>3.014227</td>\n",
       "      <td>0.000023</td>\n",
       "      <td>1.0</td>\n",
       "      <td>motif similar to cisbp__M5311 ('ALX1[gene ID: \"ENSG00000180318\" species: \"Homo sapiens\" TF status: \"direct\" TF family: \"Homeodomain\" DBDs: \"Homeobox\"]; CG34340[gene ID: \"FBgn0085369\" species: \"Drosophila melanogaster\" TF status: \"inferred\" TF family: \"Homeodomain\" DBDs: \"Homeobox\"]; OTP[gene ID: \"ENSG00000171540\" species: \"Homo sapiens\" TF status: \"inferred\" TF family: \"Homeodomain\" DBDs: \"Homeobox\"]; Prrxl1[gene ID: \"ENSMUSG00000041730\" species: \"Mus musculus\" TF status: \"inferred\" TF family: \"Homeodomain\" DBDs: \"Homeobox\"]; Vsx2[gene ID: \"ENSMUSG00000021239\" species: \"Mus musculus\" TF status: \"inferred\" TF family: \"Homeodomain\" DBDs: \"Homeobox\"]'; q-value = 2.26e-05) which is directly annotated</td>\n",
       "      <td>(hg38__refseq-r80__10kb_up_and_down_tss.mc9nr, activating, weight>75.0%)</td>\n",
       "      <td>[(HRK, 0.0009251093167831109), (KATNA1, 0.0009430362249563594), (EMC2, 0.001004512688845083)]</td>\n",
       "      <td>1074</td>\n",
       "      <td><img src=\"http://motifcollections.aertslab.org/v9/logos/taipale__ALX4_DBD_NTAATYNRATTAN.png\" style=\"max-height:124px;\"></img></td>\n",
       "    </tr>\n",
       "    <tr>\n",
       "      <th rowspan=\"4\" valign=\"top\">ATF1</th>\n",
       "      <th>dbcorrdb__ATF3__ENCSR000BKC_1__m1</th>\n",
       "      <td>0.056011</td>\n",
       "      <td>3.726154</td>\n",
       "      <td>0.000000</td>\n",
       "      <td>1.0</td>\n",
       "      <td>motif similar to dbcorrdb__ATF1__ENCSR000DNZ_1__m1 ('ATF1 (ENCSR000DNZ-1, motif 1)'; q-value = 3.74e-07) which is directly annotated</td>\n",
       "      <td>(hg38__refseq-r80__10kb_up_and_down_tss.mc9nr, activating, weight>75.0%)</td>\n",
       "      <td>[(SNHG15, 0.0009146191371526783), (RRBP1, 0.000916735116711574), (ETFB, 0.0009195329985655744)]</td>\n",
       "      <td>1143</td>\n",
       "      <td><img src=\"http://motifcollections.aertslab.org/v9/logos/dbcorrdb__ATF3__ENCSR000BKC_1__m1.png\" style=\"max-height:124px;\"></img></td>\n",
       "    </tr>\n",
       "    <tr>\n",
       "      <th>dbcorrdb__ATF3__ENCSR000DOG_1__m1</th>\n",
       "      <td>0.055088</td>\n",
       "      <td>3.593066</td>\n",
       "      <td>0.000197</td>\n",
       "      <td>1.0</td>\n",
       "      <td>motif similar to transfac_pro__M01861 ('V$ATF1_Q6_01: ATF-1'; q-value = 0.000197) which is directly annotated</td>\n",
       "      <td>(hg38__refseq-r80__10kb_up_and_down_tss.mc9nr, activating, weight>75.0%)</td>\n",
       "      <td>[(PAXIP1, 0.0009107182876312905), (SNHG15, 0.0009146191371526783), (AASS, 0.0009161375954611152)]</td>\n",
       "      <td>4935</td>\n",
       "      <td><img src=\"http://motifcollections.aertslab.org/v9/logos/dbcorrdb__ATF3__ENCSR000DOG_1__m1.png\" style=\"max-height:124px;\"></img></td>\n",
       "    </tr>\n",
       "    <tr>\n",
       "      <th>dbcorrdb__POLR2AphosphoS2__ENCSR000ECT_1__m1</th>\n",
       "      <td>0.051899</td>\n",
       "      <td>3.133225</td>\n",
       "      <td>0.000646</td>\n",
       "      <td>1.0</td>\n",
       "      <td>motif similar to dbcorrdb__ATF1__ENCSR000DNZ_1__m2 ('ATF1 (ENCSR000DNZ-1, motif 2)'; q-value = 0.000646) which is directly annotated</td>\n",
       "      <td>(hg38__refseq-r80__10kb_up_and_down_tss.mc9nr, activating, weight>75.0%)</td>\n",
       "      <td>[(MRPS22, 0.0009129599845566994), (APC, 0.0009129755333683896), (POMP, 0.0009142387715646356)]</td>\n",
       "      <td>4950</td>\n",
       "      <td><img src=\"http://motifcollections.aertslab.org/v9/logos/dbcorrdb__POLR2AphosphoS2__ENCSR000ECT_1__m1.png\" style=\"max-height:124px;\"></img></td>\n",
       "    </tr>\n",
       "    <tr>\n",
       "      <th>dbcorrdb__BRCA1__ENCSR000EDB_1__m1</th>\n",
       "      <td>0.053433</td>\n",
       "      <td>3.354375</td>\n",
       "      <td>0.000112</td>\n",
       "      <td>1.0</td>\n",
       "      <td>gene is annotated for similar motif dbcorrdb__ATF1__ENCSR000DNZ_1__m1 ('ATF1 (ENCSR000DNZ-1, motif 1)'; q-value = 0.000112)</td>\n",
       "      <td>(hg38__refseq-r80__10kb_up_and_down_tss.mc9nr, activating, weight>75.0%)</td>\n",
       "      <td>[(PAXIP1, 0.0009107182876312905), (VAPB, 0.0009161381384210494), (RRBP1, 0.000916735116711574)]</td>\n",
       "      <td>1124</td>\n",
       "      <td><img src=\"http://motifcollections.aertslab.org/v9/logos/dbcorrdb__BRCA1__ENCSR000EDB_1__m1.png\" style=\"max-height:124px;\"></img></td>\n",
       "    </tr>\n",
       "  </tbody>\n",
       "</table>"
      ],
      "text/plain": [
       "<IPython.core.display.HTML object>"
      ]
     },
     "metadata": {},
     "output_type": "display_data"
    }
   ],
   "source": [
    "display_logos(df_motifs.head())"
   ]
  },
  {
   "cell_type": "markdown",
   "metadata": {},
   "source": [
    "## STEP 4: Cellular enrichment (aka AUCell) from CLI\n",
    "> It is important to check that most cells have a substantial fraction of expressed/detected genes in the calculation of the AUC. The following histogram gives an idea of the distribution and allows selection of an appropriate threshold. In this plot, a few thresholds are highlighted, with the number of genes selected shown in red text and the corresponding percentile in parentheses). See the relevant section in the R tutorial for more information.\n",
    "By using the default setting for `--auc_threshold` of 0.05, we see that 1192 genes are selected for the rankings based on the plot below."
   ]
  },
  {
   "cell_type": "code",
   "execution_count": 19,
   "metadata": {},
   "outputs": [
    {
     "name": "stdout",
     "output_type": "stream",
     "text": [
      "[ 466.64  665.2   794.   1456.   5278.  ]\n"
     ]
    }
   ],
   "source": [
    "nGenesDetectedPerCell = np.sum(adata.X>0, axis=1)\n",
    "percentiles = np.quantile(nGenesDetectedPerCell,[.01, .05, .10, .50, 1])\n",
    "print(percentiles)"
   ]
  },
  {
   "cell_type": "code",
   "execution_count": 83,
   "metadata": {},
   "outputs": [
    {
     "data": {
      "image/png": "[encoded data removed]",
      "text/plain": [
       "<Figure size 675x225 with 1 Axes>"
      ]
     },
     "metadata": {
      "needs_background": "light"
     },
     "output_type": "display_data"
    }
   ],
   "source": [
    "fig, ax = plt.subplots(1, 1, figsize=(4.5, 1.5), dpi=150)\n",
    "sns.distplot(nGenesDetectedPerCell, norm_hist=False, kde=False, bins='fd')\n",
    "for i,x in enumerate(percentiles):\n",
    "    fig.gca().axvline(x=x, ymin=0,ymax=1, color='red')\n",
    "    ax.text(x=x, y=ax.get_ylim()[1], s=f' {int(x)}', color='red', rotation=60, size='x-small',rotation_mode='anchor')\n",
    "ax.set_xlabel('# of genes')\n",
    "ax.set_ylabel('# of cells')\n",
    "fig.tight_layout()\n"
   ]
  },
  {
   "cell_type": "code",
   "execution_count": 48,
   "metadata": {},
   "outputs": [
    {
     "name": "stdout",
     "output_type": "stream",
     "text": [
      "\n",
      "2021-06-11 07:53:02,910 - pyscenic.cli.pyscenic - INFO - Loading expression matrix.\n",
      "\n",
      "2021-06-11 07:53:10,023 - pyscenic.cli.pyscenic - INFO - Loading gene signatures.\n",
      "Create regulons from a dataframe of enriched features.\n",
      "Additional columns saved: []\n",
      "\n",
      "2021-06-11 07:53:31,590 - pyscenic.cli.pyscenic - INFO - Calculating cellular enrichment.\n",
      "\n",
      "2021-06-11 07:53:44,234 - pyscenic.cli.pyscenic - INFO - Writing results to file.\n",
      "\u001b[0m"
     ]
    }
   ],
   "source": [
    "!pyscenic aucell \\\n",
    "    {f_loom_path_scenic} \\\n",
    "    {MOTIFS_FNAME} \\\n",
    "    --output {AUCELL_MTX_FNAME} \\\n",
    "    --num_workers 8"
   ]
  },
  {
   "cell_type": "code",
   "execution_count": 21,
   "metadata": {},
   "outputs": [],
   "source": [
    "auc_mtx = pd.read_csv(f'{AUCELL_MTX_FNAME}',index_col='Cell')"
   ]
  },
  {
   "cell_type": "code",
   "execution_count": 22,
   "metadata": {},
   "outputs": [
    {
     "data": {
      "text/html": [
       "<div>\n",
       "<style scoped>\n",
       "    .dataframe tbody tr th:only-of-type {\n",
       "        vertical-align: middle;\n",
       "    }\n",
       "\n",
       "    .dataframe tbody tr th {\n",
       "        vertical-align: top;\n",
       "    }\n",
       "\n",
       "    .dataframe thead th {\n",
       "        text-align: right;\n",
       "    }\n",
       "</style>\n",
       "<table border=\"1\" class=\"dataframe\">\n",
       "  <thead>\n",
       "    <tr style=\"text-align: right;\">\n",
       "      <th></th>\n",
       "      <th>ACO1(+)</th>\n",
       "      <th>AHR(+)</th>\n",
       "      <th>ALX1(+)</th>\n",
       "      <th>ARID3A(+)</th>\n",
       "      <th>ARX(+)</th>\n",
       "      <th>ATF1(+)</th>\n",
       "      <th>ATF2(+)</th>\n",
       "      <th>ATF3(+)</th>\n",
       "      <th>ATF4(+)</th>\n",
       "      <th>ATF6(+)</th>\n",
       "      <th>...</th>\n",
       "      <th>ZNF595(+)</th>\n",
       "      <th>ZNF607(+)</th>\n",
       "      <th>ZNF623(+)</th>\n",
       "      <th>ZNF674(+)</th>\n",
       "      <th>ZNF676(+)</th>\n",
       "      <th>ZNF726(+)</th>\n",
       "      <th>ZNF730(+)</th>\n",
       "      <th>ZNF770(+)</th>\n",
       "      <th>ZNF84(+)</th>\n",
       "      <th>ZXDC(+)</th>\n",
       "    </tr>\n",
       "    <tr>\n",
       "      <th>Cell</th>\n",
       "      <th></th>\n",
       "      <th></th>\n",
       "      <th></th>\n",
       "      <th></th>\n",
       "      <th></th>\n",
       "      <th></th>\n",
       "      <th></th>\n",
       "      <th></th>\n",
       "      <th></th>\n",
       "      <th></th>\n",
       "      <th></th>\n",
       "      <th></th>\n",
       "      <th></th>\n",
       "      <th></th>\n",
       "      <th></th>\n",
       "      <th></th>\n",
       "      <th></th>\n",
       "      <th></th>\n",
       "      <th></th>\n",
       "      <th></th>\n",
       "      <th></th>\n",
       "    </tr>\n",
       "  </thead>\n",
       "  <tbody>\n",
       "    <tr>\n",
       "      <th>AAACCTGAGATCCTGT-0</th>\n",
       "      <td>0.000000</td>\n",
       "      <td>0.0</td>\n",
       "      <td>0.000000</td>\n",
       "      <td>0.000000</td>\n",
       "      <td>0.000000</td>\n",
       "      <td>0.025544</td>\n",
       "      <td>0.006703</td>\n",
       "      <td>0.000000</td>\n",
       "      <td>0.118356</td>\n",
       "      <td>0.012783</td>\n",
       "      <td>...</td>\n",
       "      <td>0.0</td>\n",
       "      <td>0.000000</td>\n",
       "      <td>0.000000</td>\n",
       "      <td>0.000000</td>\n",
       "      <td>0.000000</td>\n",
       "      <td>0.000000</td>\n",
       "      <td>0.000000</td>\n",
       "      <td>0.011366</td>\n",
       "      <td>0.017912</td>\n",
       "      <td>0.000000</td>\n",
       "    </tr>\n",
       "    <tr>\n",
       "      <th>AAACGGGAGGTTCCTA-0</th>\n",
       "      <td>0.011658</td>\n",
       "      <td>0.0</td>\n",
       "      <td>0.000000</td>\n",
       "      <td>0.000000</td>\n",
       "      <td>0.000000</td>\n",
       "      <td>0.017182</td>\n",
       "      <td>0.033698</td>\n",
       "      <td>0.014424</td>\n",
       "      <td>0.094011</td>\n",
       "      <td>0.013904</td>\n",
       "      <td>...</td>\n",
       "      <td>0.0</td>\n",
       "      <td>0.000000</td>\n",
       "      <td>0.000000</td>\n",
       "      <td>0.000000</td>\n",
       "      <td>0.000000</td>\n",
       "      <td>0.000000</td>\n",
       "      <td>0.000000</td>\n",
       "      <td>0.008306</td>\n",
       "      <td>0.014962</td>\n",
       "      <td>0.000000</td>\n",
       "    </tr>\n",
       "    <tr>\n",
       "      <th>AAAGATGCAATAACGA-0</th>\n",
       "      <td>0.000000</td>\n",
       "      <td>0.0</td>\n",
       "      <td>0.015027</td>\n",
       "      <td>0.000000</td>\n",
       "      <td>0.000000</td>\n",
       "      <td>0.019090</td>\n",
       "      <td>0.000000</td>\n",
       "      <td>0.007963</td>\n",
       "      <td>0.103859</td>\n",
       "      <td>0.012699</td>\n",
       "      <td>...</td>\n",
       "      <td>0.0</td>\n",
       "      <td>0.000000</td>\n",
       "      <td>0.070101</td>\n",
       "      <td>0.000000</td>\n",
       "      <td>0.032865</td>\n",
       "      <td>0.000000</td>\n",
       "      <td>0.000000</td>\n",
       "      <td>0.000000</td>\n",
       "      <td>0.011857</td>\n",
       "      <td>0.000000</td>\n",
       "    </tr>\n",
       "    <tr>\n",
       "      <th>AAAGCAAGTATATGGA-0</th>\n",
       "      <td>0.012589</td>\n",
       "      <td>0.0</td>\n",
       "      <td>0.000000</td>\n",
       "      <td>0.000000</td>\n",
       "      <td>0.000000</td>\n",
       "      <td>0.025274</td>\n",
       "      <td>0.000000</td>\n",
       "      <td>0.000000</td>\n",
       "      <td>0.100546</td>\n",
       "      <td>0.009300</td>\n",
       "      <td>...</td>\n",
       "      <td>0.0</td>\n",
       "      <td>0.061967</td>\n",
       "      <td>0.000000</td>\n",
       "      <td>0.000000</td>\n",
       "      <td>0.045902</td>\n",
       "      <td>0.000000</td>\n",
       "      <td>0.000000</td>\n",
       "      <td>0.038601</td>\n",
       "      <td>0.004807</td>\n",
       "      <td>0.097580</td>\n",
       "    </tr>\n",
       "    <tr>\n",
       "      <th>AAAGTAGTCGTCACGG-0</th>\n",
       "      <td>0.000000</td>\n",
       "      <td>0.0</td>\n",
       "      <td>0.000000</td>\n",
       "      <td>0.000000</td>\n",
       "      <td>0.000000</td>\n",
       "      <td>0.015099</td>\n",
       "      <td>0.000000</td>\n",
       "      <td>0.015325</td>\n",
       "      <td>0.097078</td>\n",
       "      <td>0.018720</td>\n",
       "      <td>...</td>\n",
       "      <td>0.0</td>\n",
       "      <td>0.049727</td>\n",
       "      <td>0.000000</td>\n",
       "      <td>0.000000</td>\n",
       "      <td>0.000000</td>\n",
       "      <td>0.000000</td>\n",
       "      <td>0.000000</td>\n",
       "      <td>0.011934</td>\n",
       "      <td>0.016461</td>\n",
       "      <td>0.000000</td>\n",
       "    </tr>\n",
       "    <tr>\n",
       "      <th>...</th>\n",
       "      <td>...</td>\n",
       "      <td>...</td>\n",
       "      <td>...</td>\n",
       "      <td>...</td>\n",
       "      <td>...</td>\n",
       "      <td>...</td>\n",
       "      <td>...</td>\n",
       "      <td>...</td>\n",
       "      <td>...</td>\n",
       "      <td>...</td>\n",
       "      <td>...</td>\n",
       "      <td>...</td>\n",
       "      <td>...</td>\n",
       "      <td>...</td>\n",
       "      <td>...</td>\n",
       "      <td>...</td>\n",
       "      <td>...</td>\n",
       "      <td>...</td>\n",
       "      <td>...</td>\n",
       "      <td>...</td>\n",
       "      <td>...</td>\n",
       "    </tr>\n",
       "    <tr>\n",
       "      <th>TATTACCTCTTTACAC-2</th>\n",
       "      <td>0.000000</td>\n",
       "      <td>0.0</td>\n",
       "      <td>0.000000</td>\n",
       "      <td>0.000000</td>\n",
       "      <td>0.000000</td>\n",
       "      <td>0.029832</td>\n",
       "      <td>0.000000</td>\n",
       "      <td>0.006305</td>\n",
       "      <td>0.041954</td>\n",
       "      <td>0.022859</td>\n",
       "      <td>...</td>\n",
       "      <td>0.0</td>\n",
       "      <td>0.000000</td>\n",
       "      <td>0.000000</td>\n",
       "      <td>0.135519</td>\n",
       "      <td>0.000000</td>\n",
       "      <td>0.049180</td>\n",
       "      <td>0.000000</td>\n",
       "      <td>0.038033</td>\n",
       "      <td>0.017370</td>\n",
       "      <td>0.049649</td>\n",
       "    </tr>\n",
       "    <tr>\n",
       "      <th>GCTTGAAGTATTCTCT-2</th>\n",
       "      <td>0.020300</td>\n",
       "      <td>0.0</td>\n",
       "      <td>0.000000</td>\n",
       "      <td>0.000000</td>\n",
       "      <td>0.000000</td>\n",
       "      <td>0.034577</td>\n",
       "      <td>0.000000</td>\n",
       "      <td>0.013175</td>\n",
       "      <td>0.095896</td>\n",
       "      <td>0.008193</td>\n",
       "      <td>...</td>\n",
       "      <td>0.0</td>\n",
       "      <td>0.000000</td>\n",
       "      <td>0.000000</td>\n",
       "      <td>0.023224</td>\n",
       "      <td>0.000000</td>\n",
       "      <td>0.000000</td>\n",
       "      <td>0.000000</td>\n",
       "      <td>0.000000</td>\n",
       "      <td>0.017544</td>\n",
       "      <td>0.000000</td>\n",
       "    </tr>\n",
       "    <tr>\n",
       "      <th>TGAAAGAGTAGAGGAA-2</th>\n",
       "      <td>0.011435</td>\n",
       "      <td>0.0</td>\n",
       "      <td>0.000000</td>\n",
       "      <td>0.000000</td>\n",
       "      <td>0.000000</td>\n",
       "      <td>0.023968</td>\n",
       "      <td>0.000000</td>\n",
       "      <td>0.016129</td>\n",
       "      <td>0.070670</td>\n",
       "      <td>0.015301</td>\n",
       "      <td>...</td>\n",
       "      <td>0.0</td>\n",
       "      <td>0.000000</td>\n",
       "      <td>0.000000</td>\n",
       "      <td>0.113661</td>\n",
       "      <td>0.000000</td>\n",
       "      <td>0.027596</td>\n",
       "      <td>0.319672</td>\n",
       "      <td>0.006426</td>\n",
       "      <td>0.008008</td>\n",
       "      <td>0.037471</td>\n",
       "    </tr>\n",
       "    <tr>\n",
       "      <th>TATCTCAGTGATGTCT-2</th>\n",
       "      <td>0.005505</td>\n",
       "      <td>0.0</td>\n",
       "      <td>0.000000</td>\n",
       "      <td>0.000000</td>\n",
       "      <td>0.054545</td>\n",
       "      <td>0.028533</td>\n",
       "      <td>0.009144</td>\n",
       "      <td>0.010449</td>\n",
       "      <td>0.112925</td>\n",
       "      <td>0.011458</td>\n",
       "      <td>...</td>\n",
       "      <td>0.0</td>\n",
       "      <td>0.000000</td>\n",
       "      <td>0.000000</td>\n",
       "      <td>0.000000</td>\n",
       "      <td>0.002108</td>\n",
       "      <td>0.000000</td>\n",
       "      <td>0.000000</td>\n",
       "      <td>0.057224</td>\n",
       "      <td>0.005803</td>\n",
       "      <td>0.000000</td>\n",
       "    </tr>\n",
       "    <tr>\n",
       "      <th>CTCCTAGGTTCATGGT-2</th>\n",
       "      <td>0.006760</td>\n",
       "      <td>0.0</td>\n",
       "      <td>0.000000</td>\n",
       "      <td>0.063856</td>\n",
       "      <td>0.000000</td>\n",
       "      <td>0.020205</td>\n",
       "      <td>0.003315</td>\n",
       "      <td>0.003507</td>\n",
       "      <td>0.111955</td>\n",
       "      <td>0.024206</td>\n",
       "      <td>...</td>\n",
       "      <td>0.0</td>\n",
       "      <td>0.000000</td>\n",
       "      <td>0.003747</td>\n",
       "      <td>0.000000</td>\n",
       "      <td>0.043872</td>\n",
       "      <td>0.000000</td>\n",
       "      <td>0.000000</td>\n",
       "      <td>0.020284</td>\n",
       "      <td>0.010339</td>\n",
       "      <td>0.000000</td>\n",
       "    </tr>\n",
       "  </tbody>\n",
       "</table>\n",
       "<p>4865 rows × 268 columns</p>\n",
       "</div>"
      ],
      "text/plain": [
       "                     ACO1(+)  AHR(+)   ALX1(+)  ARID3A(+)    ARX(+)   ATF1(+)  \\\n",
       "Cell                                                                            \n",
       "AAACCTGAGATCCTGT-0  0.000000     0.0  0.000000   0.000000  0.000000  0.025544   \n",
       "AAACGGGAGGTTCCTA-0  0.011658     0.0  0.000000   0.000000  0.000000  0.017182   \n",
       "AAAGATGCAATAACGA-0  0.000000     0.0  0.015027   0.000000  0.000000  0.019090   \n",
       "AAAGCAAGTATATGGA-0  0.012589     0.0  0.000000   0.000000  0.000000  0.025274   \n",
       "AAAGTAGTCGTCACGG-0  0.000000     0.0  0.000000   0.000000  0.000000  0.015099   \n",
       "...                      ...     ...       ...        ...       ...       ...   \n",
       "TATTACCTCTTTACAC-2  0.000000     0.0  0.000000   0.000000  0.000000  0.029832   \n",
       "GCTTGAAGTATTCTCT-2  0.020300     0.0  0.000000   0.000000  0.000000  0.034577   \n",
       "TGAAAGAGTAGAGGAA-2  0.011435     0.0  0.000000   0.000000  0.000000  0.023968   \n",
       "TATCTCAGTGATGTCT-2  0.005505     0.0  0.000000   0.000000  0.054545  0.028533   \n",
       "CTCCTAGGTTCATGGT-2  0.006760     0.0  0.000000   0.063856  0.000000  0.020205   \n",
       "\n",
       "                     ATF2(+)   ATF3(+)   ATF4(+)   ATF6(+)  ...  ZNF595(+)  \\\n",
       "Cell                                                        ...              \n",
       "AAACCTGAGATCCTGT-0  0.006703  0.000000  0.118356  0.012783  ...        0.0   \n",
       "AAACGGGAGGTTCCTA-0  0.033698  0.014424  0.094011  0.013904  ...        0.0   \n",
       "AAAGATGCAATAACGA-0  0.000000  0.007963  0.103859  0.012699  ...        0.0   \n",
       "AAAGCAAGTATATGGA-0  0.000000  0.000000  0.100546  0.009300  ...        0.0   \n",
       "AAAGTAGTCGTCACGG-0  0.000000  0.015325  0.097078  0.018720  ...        0.0   \n",
       "...                      ...       ...       ...       ...  ...        ...   \n",
       "TATTACCTCTTTACAC-2  0.000000  0.006305  0.041954  0.022859  ...        0.0   \n",
       "GCTTGAAGTATTCTCT-2  0.000000  0.013175  0.095896  0.008193  ...        0.0   \n",
       "TGAAAGAGTAGAGGAA-2  0.000000  0.016129  0.070670  0.015301  ...        0.0   \n",
       "TATCTCAGTGATGTCT-2  0.009144  0.010449  0.112925  0.011458  ...        0.0   \n",
       "CTCCTAGGTTCATGGT-2  0.003315  0.003507  0.111955  0.024206  ...        0.0   \n",
       "\n",
       "                    ZNF607(+)  ZNF623(+)  ZNF674(+)  ZNF676(+)  ZNF726(+)  \\\n",
       "Cell                                                                        \n",
       "AAACCTGAGATCCTGT-0   0.000000   0.000000   0.000000   0.000000   0.000000   \n",
       "AAACGGGAGGTTCCTA-0   0.000000   0.000000   0.000000   0.000000   0.000000   \n",
       "AAAGATGCAATAACGA-0   0.000000   0.070101   0.000000   0.032865   0.000000   \n",
       "AAAGCAAGTATATGGA-0   0.061967   0.000000   0.000000   0.045902   0.000000   \n",
       "AAAGTAGTCGTCACGG-0   0.049727   0.000000   0.000000   0.000000   0.000000   \n",
       "...                       ...        ...        ...        ...        ...   \n",
       "TATTACCTCTTTACAC-2   0.000000   0.000000   0.135519   0.000000   0.049180   \n",
       "GCTTGAAGTATTCTCT-2   0.000000   0.000000   0.023224   0.000000   0.000000   \n",
       "TGAAAGAGTAGAGGAA-2   0.000000   0.000000   0.113661   0.000000   0.027596   \n",
       "TATCTCAGTGATGTCT-2   0.000000   0.000000   0.000000   0.002108   0.000000   \n",
       "CTCCTAGGTTCATGGT-2   0.000000   0.003747   0.000000   0.043872   0.000000   \n",
       "\n",
       "                    ZNF730(+)  ZNF770(+)  ZNF84(+)   ZXDC(+)  \n",
       "Cell                                                          \n",
       "AAACCTGAGATCCTGT-0   0.000000   0.011366  0.017912  0.000000  \n",
       "AAACGGGAGGTTCCTA-0   0.000000   0.008306  0.014962  0.000000  \n",
       "AAAGATGCAATAACGA-0   0.000000   0.000000  0.011857  0.000000  \n",
       "AAAGCAAGTATATGGA-0   0.000000   0.038601  0.004807  0.097580  \n",
       "AAAGTAGTCGTCACGG-0   0.000000   0.011934  0.016461  0.000000  \n",
       "...                       ...        ...       ...       ...  \n",
       "TATTACCTCTTTACAC-2   0.000000   0.038033  0.017370  0.049649  \n",
       "GCTTGAAGTATTCTCT-2   0.000000   0.000000  0.017544  0.000000  \n",
       "TGAAAGAGTAGAGGAA-2   0.319672   0.006426  0.008008  0.037471  \n",
       "TATCTCAGTGATGTCT-2   0.000000   0.057224  0.005803  0.000000  \n",
       "CTCCTAGGTTCATGGT-2   0.000000   0.020284  0.010339  0.000000  \n",
       "\n",
       "[4865 rows x 268 columns]"
      ]
     },
     "execution_count": 22,
     "metadata": {},
     "output_type": "execute_result"
    }
   ],
   "source": [
    "auc_mtx"
   ]
  },
  {
   "cell_type": "markdown",
   "metadata": {},
   "source": [
    "### STEP 5 - Regulon activity binarization "
   ]
  },
  {
   "cell_type": "code",
   "execution_count": 65,
   "metadata": {},
   "outputs": [
    {
     "name": "stdout",
     "output_type": "stream",
     "text": [
      "Help on function binarize in module pyscenic.binarization:\n",
      "\n",
      "binarize(auc_mtx: pandas.core.frame.DataFrame, threshold_overides: Union[Mapping[str, float], NoneType] = None, seed=None, num_workers=1) -> (<class 'pandas.core.frame.DataFrame'>, <class 'pandas.core.series.Series'>)\n",
      "    \"Binarize\" the supplied AUC matrix, i.e. decide if for each cells in the matrix a regulon is active or not based\n",
      "    on the bimodal distribution of the AUC values for that regulon.\n",
      "    \n",
      "    :param auc_mtx: The dataframe with the AUC values for all cells and regulons (n_cells x n_regulons).\n",
      "    :param threshold_overides: A dictionary that maps name of regulons to manually set thresholds.\n",
      "    :return: A \"binarized\" dataframe and a series containing the AUC threshold used for each regulon.\n",
      "\n"
     ]
    }
   ],
   "source": [
    "help(binarize)"
   ]
  },
  {
   "cell_type": "code",
   "execution_count": 66,
   "metadata": {},
   "outputs": [],
   "source": [
    "bin_mtx, thresholds = binarize(auc_mtx,num_workers=8)"
   ]
  },
  {
   "cell_type": "code",
   "execution_count": 67,
   "metadata": {},
   "outputs": [],
   "source": [
    "bin_mtx.to_csv(BIN_MTX_FNAME)\n",
    "thresholds.to_frame().rename(columns={0:'threshold'}).to_csv(THR_FNAME)"
   ]
  },
  {
   "cell_type": "markdown",
   "metadata": {},
   "source": [
    "___"
   ]
  },
  {
   "cell_type": "code",
   "execution_count": 23,
   "metadata": {},
   "outputs": [],
   "source": [
    "bin_mtx = pd.read_csv(BIN_MTX_FNAME, index_col=0)\n",
    "thresholds = pd.read_csv(THR_FNAME, index_col=0).threshold"
   ]
  },
  {
   "cell_type": "code",
   "execution_count": 83,
   "metadata": {},
   "outputs": [
    {
     "name": "stdout",
     "output_type": "stream",
     "text": [
      "Help on function plot_binarization in module pyscenic.plotting:\n",
      "\n",
      "plot_binarization(auc_mtx: pandas.core.frame.DataFrame, regulon_name: str, threshold: float, bins: int = 200, ax=None) -> None\n",
      "    Plot the \"binarization\" process for the given regulon.\n",
      "    \n",
      "    :param auc_mtx: The dataframe with the AUC values for all cells and regulons (n_cells x n_regulons).\n",
      "    :param regulon_name: The name of the regulon.\n",
      "    :param bins: The number of bins to use in the AUC histogram.\n",
      "    :param threshold: The threshold to use for binarization.\n",
      "\n"
     ]
    }
   ],
   "source": [
    "help(plot_binarization)"
   ]
  },
  {
   "cell_type": "markdown",
   "metadata": {},
   "source": [
    "### Find time specific activated TF \n",
    "Here I aim to filter AUC scores based on time labels to find activated TFs. "
   ]
  },
  {
   "cell_type": "code",
   "execution_count": 1,
   "metadata": {},
   "outputs": [],
   "source": [
    "import seaborn as sns; sns.set_theme(color_codes=True)"
   ]
  },
  {
   "cell_type": "code",
   "execution_count": 115,
   "metadata": {},
   "outputs": [
    {
     "name": "stdout",
     "output_type": "stream",
     "text": [
      "CPU times: user 1.35 s, sys: 201 ms, total: 1.55 s\n",
      "Wall time: 1.61 s\n"
     ]
    }
   ],
   "source": [
    "%%time \n",
    "adata = sc.read_h5ad('preprocessing/mix.h5ad.gz')\n",
    "\n",
    "adata.obs['time'] = adata.obs['time'].astype(str)\n",
    "\n",
    "adata.obs['Uracil-repair-time'] = adata.obs[['Uracil-repair','time']].agg('-'.join, axis=1)\n",
    "adata.obs['riboG-repair-time'] = adata.obs[['riboG-repair','time']].agg('-'.join, axis=1)"
   ]
  },
  {
   "cell_type": "code",
   "execution_count": 116,
   "metadata": {},
   "outputs": [],
   "source": [
    "auc_mtx = pd.read_csv('SCENIC/results/mix.auc.csv',index_col='Cell')"
   ]
  },
  {
   "cell_type": "markdown",
   "metadata": {},
   "source": [
    "#### riboG-repair-time"
   ]
  },
  {
   "cell_type": "code",
   "execution_count": 28,
   "metadata": {},
   "outputs": [],
   "source": [
    "rss_rG = regulon_specificity_scores(auc_mtx, adata.obs['riboG-repair-time'])\n",
    "rss_rG = rss_rG[['none' not in i for i in rss_rG.index]]"
   ]
  },
  {
   "cell_type": "code",
   "execution_count": 11,
   "metadata": {},
   "outputs": [
    {
     "data": {
      "image/png": "[encoded data removed]",
      "text/plain": [
       "<Figure size 3240x288 with 4 Axes>"
      ]
     },
     "metadata": {},
     "output_type": "display_data"
    }
   ],
   "source": [
    "g = sns.clustermap(rss_rG,figsize=(45,4),\n",
    "                   row_cluster=False,\n",
    "                   cmap=\"mako\",\n",
    "                  )\n",
    "_ = g.ax_heatmap.set_yticklabels(g.ax_heatmap.get_yticklabels(), rotation=0)\n",
    "_ = g.ax_heatmap.set_title('riboG-repair-time\\n\\n\\n',fontsize=45)"
   ]
  },
  {
   "cell_type": "markdown",
   "metadata": {},
   "source": [
    "#### Uracil-repair-time"
   ]
  },
  {
   "cell_type": "code",
   "execution_count": 17,
   "metadata": {},
   "outputs": [],
   "source": [
    "rss_dU = regulon_specificity_scores(auc_mtx, adata.obs['Uracil-repair-time'])\n",
    "rss_dU = rss_dU[['none' not in i for i in rss_dU.index]]"
   ]
  },
  {
   "cell_type": "code",
   "execution_count": 18,
   "metadata": {},
   "outputs": [
    {
     "data": {
      "image/png": "[encoded data removed]",
      "text/plain": [
       "<Figure size 3240x288 with 4 Axes>"
      ]
     },
     "metadata": {},
     "output_type": "display_data"
    }
   ],
   "source": [
    "u = sns.clustermap(rss_dU.loc[:,np.sum(rss_dU > 0.26) > 0].sort_index(),figsize=(45,4),\n",
    "                   row_cluster=False,\n",
    "                   cmap=\"mako\",\n",
    "                  )\n",
    "_ = u.ax_heatmap.set_yticklabels(u.ax_heatmap.get_yticklabels(), rotation=0)\n",
    "_ = u.ax_heatmap.set_title('riboG-repair-time\\n\\n\\n',fontsize=45)"
   ]
  },
  {
   "cell_type": "markdown",
   "metadata": {},
   "source": [
    "Create heatmap with binarized regulon activity."
   ]
  },
  {
   "cell_type": "code",
   "execution_count": 30,
   "metadata": {},
   "outputs": [],
   "source": [
    "def palplot(pal, names, colors=None, size=1):\n",
    "    n = len(pal)\n",
    "    f, ax = plt.subplots(1, 1, figsize=(n * size, size))\n",
    "    ax.imshow(np.arange(n).reshape(1, n),\n",
    "              cmap=mpl.colors.ListedColormap(list(pal)),\n",
    "              interpolation=\"nearest\", aspect=\"auto\")\n",
    "    ax.set_xticks(np.arange(n) - .5)\n",
    "    ax.set_yticks([-.5, .5])\n",
    "    ax.set_xticklabels([])\n",
    "    ax.set_yticklabels([])\n",
    "    colors = n * ['k'] if colors is None else colors\n",
    "    for idx, (name, color) in enumerate(zip(names, colors)):\n",
    "        ax.text(0.0+idx, 0.0, name, color=color, horizontalalignment='center', verticalalignment='center')\n",
    "    return f"
   ]
  },
  {
   "cell_type": "code",
   "execution_count": 43,
   "metadata": {},
   "outputs": [],
   "source": [
    "adata_rG = adata[adata.obs['riboG-repair'] != 'none']\n",
    "adata_dU = adata[adata.obs['Uracil-repair'] != 'none']"
   ]
  },
  {
   "cell_type": "code",
   "execution_count": 53,
   "metadata": {},
   "outputs": [
    {
     "data": {
      "text/plain": [
       "View of AnnData object with n_obs × n_vars = 1731 × 18292\n",
       "    obs: 'time', 'Uracil-45', 'riboG-44', 'riboG-repair', 'Uracil-repair', 'Uracil-repair-time', 'riboG-repair-time'"
      ]
     },
     "execution_count": 53,
     "metadata": {},
     "output_type": "execute_result"
    }
   ],
   "source": [
    "adata_rG"
   ]
  },
  {
   "cell_type": "code",
   "execution_count": 54,
   "metadata": {},
   "outputs": [
    {
     "data": {
      "text/plain": [
       "View of AnnData object with n_obs × n_vars = 2598 × 18292\n",
       "    obs: 'time', 'Uracil-45', 'riboG-44', 'riboG-repair', 'Uracil-repair', 'Uracil-repair-time', 'riboG-repair-time'"
      ]
     },
     "execution_count": 54,
     "metadata": {},
     "output_type": "execute_result"
    }
   ],
   "source": [
    "adata_dU"
   ]
  },
  {
   "cell_type": "code",
   "execution_count": 80,
   "metadata": {},
   "outputs": [
    {
     "data": {
      "image/png": "[encoded data removed]",
      "text/plain": [
       "<Figure size 144x72 with 1 Axes>"
      ]
     },
     "metadata": {},
     "output_type": "display_data"
    },
    {
     "data": {
      "image/png": "[encoded data removed]",
      "text/plain": [
       "<Figure size 720x72 with 1 Axes>"
      ]
     },
     "metadata": {},
     "output_type": "display_data"
    }
   ],
   "source": [
    "adata = adata_dU.copy()\n",
    "label = 'Uracil-repair-time'\n",
    "\n",
    "N_COLORS = len(set(adata.obs[label]))\n",
    "COLORS = [color['color'] for color in mpl.rcParams[\"axes.prop_cycle\"]]\n",
    "\n",
    "cell_type_color_lut = dict(zip(set(adata.obs[label]), COLORS))\n",
    "cell_id2cell_type_lut = adata_rG.obs[label].to_dict()\n",
    "bw_palette = sns.xkcd_palette([\"white\", \"black\"])\n",
    "\n",
    "sns.set()\n",
    "sns.set_style(\"whitegrid\")\n",
    "fig = palplot(bw_palette, ['OFF', 'ON'], ['k', 'w'])\n",
    "# savesvg('legend - GSE115978 - on_off.svg', fig)\n",
    "\n",
    "sns.set()\n",
    "sns.set(font_scale=0.8)\n",
    "fig = palplot(sns.color_palette(COLORS), set(adata.obs[label]), size=1.0)\n",
    "# savesvg('legend - GSE115978 - cell_type_colors.svg', fig)"
   ]
  },
  {
   "cell_type": "code",
   "execution_count": 36,
   "metadata": {},
   "outputs": [
    {
     "name": "stdout",
     "output_type": "stream",
     "text": [
      "mkdir: SCENIC/figures: File exists\r\n"
     ]
    }
   ],
   "source": [
    "mkdir SCENIC/figures"
   ]
  },
  {
   "cell_type": "code",
   "execution_count": 37,
   "metadata": {
    "scrolled": false
   },
   "outputs": [],
   "source": [
    "# sns.set()\n",
    "# sns.set(font_scale=1.0)\n",
    "# sns.set_style(\"ticks\", {\"xtick.minor.size\": 1, \"ytick.minor.size\": 0.1})\n",
    "# g = sns.clustermap(bin_mtx.T.loc[:,adata.obs['riboG-repair'] != 'none'], \n",
    "#                col_colors=auc_mtx.loc[adata.obs['riboG-repair'] != 'none',:].index.map(cell_id2cell_type_lut).map(cell_type_color_lut),\n",
    "#                cmap=bw_palette, figsize=(20,20))\n",
    "# g.ax_heatmap.set_xticklabels([])\n",
    "# g.ax_heatmap.set_xticks([])\n",
    "# g.ax_heatmap.set_xlabel('Cells')\n",
    "# g.ax_heatmap.set_ylabel('Regulons')\n",
    "# g.ax_col_colors.set_yticks([0.5])\n",
    "# g.ax_col_colors.set_yticklabels(['Cell Type'])\n",
    "# g.cax.set_visible(False)\n",
    "# g.fig.savefig(os.path.join(FIGURES_FOLDERNAME, 'clustermap.pdf'), format='pdf')"
   ]
  },
  {
   "cell_type": "code",
   "execution_count": 129,
   "metadata": {
    "scrolled": false
   },
   "outputs": [],
   "source": [
    "# regulons = [\n",
    "#     'SIX2(+)','DDIT3(+)',\n",
    "# #     'ATF4(+)', \n",
    "# #     'NFYB(+)', 'NFYC(+)', 'ATF6(+)', 'ATF3(+)', \n",
    "# #     'NFYA(+)', 'FOXD1(+)', 'CEBPB(+)', 'PAX2(+)'\n",
    "# ]\n",
    "\n",
    "# sns.set()\n",
    "# sns.set(font_scale=1.0)\n",
    "# sns.set_style(\"ticks\", {\"xtick.minor.size\": 1, \"ytick.minor.size\": 0.1})\n",
    "# data = bin_mtx.T.loc[regulons,adata_rG.obs.index]\n",
    "# g = sns.clustermap(\n",
    "#     data,col_colors=data.columns.map(cell_id2cell_type_lut).map(cell_type_color_lut),\n",
    "#     cmap=bw_palette, figsize=(20,6)\n",
    "# )\n",
    "\n",
    "# g.ax_heatmap.set_xticklabels([])\n",
    "# g.ax_heatmap.set_xticks([])\n",
    "# g.ax_heatmap.set_xlabel('Cells')\n",
    "# g.ax_heatmap.set_ylabel('Regulons')\n",
    "# g.ax_col_colors.set_yticks([0.5])\n",
    "# g.ax_col_colors.set_yticklabels(['Cell Type'])\n",
    "# g.cax.set_visible(False)\n",
    "# # g.fig.savefig(os.path.join(FIGURES_FOLDERNAME, 'clustermap.pdf'), format='pdf')"
   ]
  },
  {
   "cell_type": "markdown",
   "metadata": {},
   "source": [
    "Save clustered binarized heatmap to Excel for further inspection."
   ]
  },
  {
   "cell_type": "code",
   "execution_count": 131,
   "metadata": {},
   "outputs": [],
   "source": [
    "# bin_mtx_clustered = bin_mtx.T.copy()"
   ]
  },
  {
   "cell_type": "code",
   "execution_count": 132,
   "metadata": {},
   "outputs": [],
   "source": [
    "# bin_mtx_clustered.iloc[g.dendrogram_row.reordered_ind, g.dendrogram_col.reordered_ind].to_csv(os.path.join(RESULTS_FOLDERNAME, 'binarized-regulon-activity.csv'))"
   ]
  },
  {
   "cell_type": "markdown",
   "metadata": {},
   "source": [
    "Generate sequence logos."
   ]
  },
  {
   "cell_type": "code",
   "execution_count": 133,
   "metadata": {},
   "outputs": [],
   "source": [
    "def derive_regulons(motifs):\n",
    "    motifs.columns = motifs.columns.droplevel(0)\n",
    "\n",
    "    def contains(*elems):\n",
    "        def f(context):\n",
    "            return any(elem in context for elem in elems)\n",
    "        return f\n",
    "\n",
    "    # For the creation of regulons we only keep the 10-species databases and the activating modules. We also remove the\n",
    "    # enriched motifs for the modules that were created using the method 'weight>50.0%' (because these modules are not part\n",
    "    # of the default settings of modules_from_adjacencies anymore.\n",
    "    motifs = motifs[\n",
    "        np.fromiter(map(compose(op.not_, contains('weight>50.0%')), motifs.Context), dtype=np.bool) & \\\n",
    "        np.fromiter(map(contains('activating'), motifs.Context), dtype=np.bool)]\n",
    "\n",
    "    # We build regulons only using enriched motifs with a NES of 3.0 or higher; we take only directly annotated TFs or TF annotated\n",
    "    # for an orthologous gene into account; and we only keep regulons with at least 10 genes.\n",
    "    regulons = list(filter(lambda r: len(r) >= 10, df2regulons(motifs[(motifs['NES'] >= 3.0) \n",
    "                                                                      & ((motifs['Annotation'] == 'gene is directly annotated')\n",
    "                                                                        | (motifs['Annotation'].str.startswith('gene is orthologous to')\n",
    "                                                                           & motifs['Annotation'].str.endswith('which is directly annotated for motif')))\n",
    "                                                                     ])))\n",
    "    \n",
    "    # Rename regulons, i.e. remove suffix.\n",
    "    return list(map(lambda r: r.rename(r.transcription_factor), regulons))\n",
    "#     return motifs"
   ]
  },
  {
   "cell_type": "code",
   "execution_count": 135,
   "metadata": {},
   "outputs": [
    {
     "ename": "ValueError",
     "evalue": "Cannot remove 1 levels from an index with 1 levels: at least one level must be left.",
     "output_type": "error",
     "traceback": [
      "\u001b[0;31m---------------------------------------------------------------------------\u001b[0m",
      "\u001b[0;31mValueError\u001b[0m                                Traceback (most recent call last)",
      "\u001b[0;32m<ipython-input-135-99fd2ccf6853>\u001b[0m in \u001b[0;36m<module>\u001b[0;34m\u001b[0m\n\u001b[0;32m----> 1\u001b[0;31m \u001b[0mregulons\u001b[0m \u001b[0;34m=\u001b[0m \u001b[0mderive_regulons\u001b[0m\u001b[0;34m(\u001b[0m\u001b[0mdf_motifs\u001b[0m\u001b[0;34m)\u001b[0m\u001b[0;34m\u001b[0m\u001b[0;34m\u001b[0m\u001b[0m\n\u001b[0m",
      "\u001b[0;32m<ipython-input-133-3c0866b261e2>\u001b[0m in \u001b[0;36mderive_regulons\u001b[0;34m(motifs)\u001b[0m\n\u001b[1;32m      1\u001b[0m \u001b[0;32mdef\u001b[0m \u001b[0mderive_regulons\u001b[0m\u001b[0;34m(\u001b[0m\u001b[0mmotifs\u001b[0m\u001b[0;34m)\u001b[0m\u001b[0;34m:\u001b[0m\u001b[0;34m\u001b[0m\u001b[0;34m\u001b[0m\u001b[0m\n\u001b[0;32m----> 2\u001b[0;31m     \u001b[0mmotifs\u001b[0m\u001b[0;34m.\u001b[0m\u001b[0mcolumns\u001b[0m \u001b[0;34m=\u001b[0m \u001b[0mmotifs\u001b[0m\u001b[0;34m.\u001b[0m\u001b[0mcolumns\u001b[0m\u001b[0;34m.\u001b[0m\u001b[0mdroplevel\u001b[0m\u001b[0;34m(\u001b[0m\u001b[0;36m0\u001b[0m\u001b[0;34m)\u001b[0m\u001b[0;34m\u001b[0m\u001b[0;34m\u001b[0m\u001b[0m\n\u001b[0m\u001b[1;32m      3\u001b[0m \u001b[0;34m\u001b[0m\u001b[0m\n\u001b[1;32m      4\u001b[0m     \u001b[0;32mdef\u001b[0m \u001b[0mcontains\u001b[0m\u001b[0;34m(\u001b[0m\u001b[0;34m*\u001b[0m\u001b[0melems\u001b[0m\u001b[0;34m)\u001b[0m\u001b[0;34m:\u001b[0m\u001b[0;34m\u001b[0m\u001b[0;34m\u001b[0m\u001b[0m\n\u001b[1;32m      5\u001b[0m         \u001b[0;32mdef\u001b[0m \u001b[0mf\u001b[0m\u001b[0;34m(\u001b[0m\u001b[0mcontext\u001b[0m\u001b[0;34m)\u001b[0m\u001b[0;34m:\u001b[0m\u001b[0;34m\u001b[0m\u001b[0;34m\u001b[0m\u001b[0m\n",
      "\u001b[0;32m~/anaconda3/envs/sc-net/lib/python3.7/site-packages/pandas/core/indexes/base.py\u001b[0m in \u001b[0;36mdroplevel\u001b[0;34m(self, level)\u001b[0m\n\u001b[1;32m   1609\u001b[0m         \u001b[0mlevnums\u001b[0m \u001b[0;34m=\u001b[0m \u001b[0msorted\u001b[0m\u001b[0;34m(\u001b[0m\u001b[0mself\u001b[0m\u001b[0;34m.\u001b[0m\u001b[0m_get_level_number\u001b[0m\u001b[0;34m(\u001b[0m\u001b[0mlev\u001b[0m\u001b[0;34m)\u001b[0m \u001b[0;32mfor\u001b[0m \u001b[0mlev\u001b[0m \u001b[0;32min\u001b[0m \u001b[0mlevel\u001b[0m\u001b[0;34m)\u001b[0m\u001b[0;34m[\u001b[0m\u001b[0;34m:\u001b[0m\u001b[0;34m:\u001b[0m\u001b[0;34m-\u001b[0m\u001b[0;36m1\u001b[0m\u001b[0;34m]\u001b[0m\u001b[0;34m\u001b[0m\u001b[0;34m\u001b[0m\u001b[0m\n\u001b[1;32m   1610\u001b[0m \u001b[0;34m\u001b[0m\u001b[0m\n\u001b[0;32m-> 1611\u001b[0;31m         \u001b[0;32mreturn\u001b[0m \u001b[0mself\u001b[0m\u001b[0;34m.\u001b[0m\u001b[0m_drop_level_numbers\u001b[0m\u001b[0;34m(\u001b[0m\u001b[0mlevnums\u001b[0m\u001b[0;34m)\u001b[0m\u001b[0;34m\u001b[0m\u001b[0;34m\u001b[0m\u001b[0m\n\u001b[0m\u001b[1;32m   1612\u001b[0m \u001b[0;34m\u001b[0m\u001b[0m\n\u001b[1;32m   1613\u001b[0m     \u001b[0;32mdef\u001b[0m \u001b[0m_drop_level_numbers\u001b[0m\u001b[0;34m(\u001b[0m\u001b[0mself\u001b[0m\u001b[0;34m,\u001b[0m \u001b[0mlevnums\u001b[0m\u001b[0;34m:\u001b[0m \u001b[0mList\u001b[0m\u001b[0;34m[\u001b[0m\u001b[0mint\u001b[0m\u001b[0;34m]\u001b[0m\u001b[0;34m)\u001b[0m\u001b[0;34m:\u001b[0m\u001b[0;34m\u001b[0m\u001b[0;34m\u001b[0m\u001b[0m\n",
      "\u001b[0;32m~/anaconda3/envs/sc-net/lib/python3.7/site-packages/pandas/core/indexes/base.py\u001b[0m in \u001b[0;36m_drop_level_numbers\u001b[0;34m(self, levnums)\u001b[0m\n\u001b[1;32m   1620\u001b[0m         \u001b[0;32mif\u001b[0m \u001b[0mlen\u001b[0m\u001b[0;34m(\u001b[0m\u001b[0mlevnums\u001b[0m\u001b[0;34m)\u001b[0m \u001b[0;34m>=\u001b[0m \u001b[0mself\u001b[0m\u001b[0;34m.\u001b[0m\u001b[0mnlevels\u001b[0m\u001b[0;34m:\u001b[0m\u001b[0;34m\u001b[0m\u001b[0;34m\u001b[0m\u001b[0m\n\u001b[1;32m   1621\u001b[0m             raise ValueError(\n\u001b[0;32m-> 1622\u001b[0;31m                 \u001b[0;34mf\"Cannot remove {len(levnums)} levels from an index with \"\u001b[0m\u001b[0;34m\u001b[0m\u001b[0;34m\u001b[0m\u001b[0m\n\u001b[0m\u001b[1;32m   1623\u001b[0m                 \u001b[0;34mf\"{self.nlevels} levels: at least one level must be left.\"\u001b[0m\u001b[0;34m\u001b[0m\u001b[0;34m\u001b[0m\u001b[0m\n\u001b[1;32m   1624\u001b[0m             )\n",
      "\u001b[0;31mValueError\u001b[0m: Cannot remove 1 levels from an index with 1 levels: at least one level must be left."
     ]
    }
   ],
   "source": [
    "regulons = derive_regulons(df_motifs)"
   ]
  },
  {
   "cell_type": "code",
   "execution_count": 136,
   "metadata": {},
   "outputs": [],
   "source": [
    "def fetch_logo(regulon, base_url = BASE_URL):\n",
    "    for elem in regulon.context:\n",
    "        if elem.endswith('.png'):\n",
    "            return '<img src=\"{}{}\" style=\"max-height:124px;\"></img>'.format(base_url, elem)\n",
    "    return \"\""
   ]
  },
  {
   "cell_type": "code",
   "execution_count": 137,
   "metadata": {},
   "outputs": [],
   "source": [
    "df_regulons = pd.DataFrame(data=[list(map(op.attrgetter('name'), regulons)),\n",
    "                                 list(map(len, regulons)),\n",
    "                                 list(map(fetch_logo, regulons))], index=['name', 'count', 'logo']).T"
   ]
  },
  {
   "cell_type": "code",
   "execution_count": 138,
   "metadata": {},
   "outputs": [],
   "source": [
    "# df_regulons"
   ]
  },
  {
   "cell_type": "code",
   "execution_count": 141,
   "metadata": {},
   "outputs": [
    {
     "name": "stderr",
     "output_type": "stream",
     "text": [
      "/Users/abearab/anaconda3/envs/sc-net/lib/python3.7/site-packages/ipykernel_launcher.py:2: FutureWarning: Passing a negative integer is deprecated in version 1.0 and will not be supported in future version. Instead, use None to not limit the column width.\n",
      "  \n"
     ]
    },
    {
     "data": {
      "text/html": [
       "<table border=\"1\" class=\"dataframe\">\n",
       "  <thead>\n",
       "    <tr style=\"text-align: right;\">\n",
       "      <th></th>\n",
       "      <th>name</th>\n",
       "      <th>count</th>\n",
       "      <th>logo</th>\n",
       "    </tr>\n",
       "  </thead>\n",
       "  <tbody>\n",
       "  </tbody>\n",
       "</table>"
      ],
      "text/plain": [
       "<IPython.core.display.HTML object>"
      ]
     },
     "metadata": {},
     "output_type": "display_data"
    }
   ],
   "source": [
    "MAX_COL_WIDTH = pd.get_option('display.max_colwidth')\n",
    "pd.set_option('display.max_colwidth', -1)\n",
    "display(HTML(df_regulons[df_regulons.name == 'DDIT3'].to_html(escape=False)))\n",
    "pd.set_option('display.max_colwidth', MAX_COL_WIDTH)"
   ]
  },
  {
   "cell_type": "code",
   "execution_count": 297,
   "metadata": {},
   "outputs": [
    {
     "data": {
      "text/html": [
       "<div>\n",
       "<style scoped>\n",
       "    .dataframe tbody tr th:only-of-type {\n",
       "        vertical-align: middle;\n",
       "    }\n",
       "\n",
       "    .dataframe tbody tr th {\n",
       "        vertical-align: top;\n",
       "    }\n",
       "\n",
       "    .dataframe thead th {\n",
       "        text-align: right;\n",
       "    }\n",
       "</style>\n",
       "<table border=\"1\" class=\"dataframe\">\n",
       "  <thead>\n",
       "    <tr style=\"text-align: right;\">\n",
       "      <th></th>\n",
       "      <th>TF</th>\n",
       "      <th>target</th>\n",
       "      <th>importance</th>\n",
       "    </tr>\n",
       "  </thead>\n",
       "  <tbody>\n",
       "    <tr>\n",
       "      <th>1203230</th>\n",
       "      <td>POLR2A</td>\n",
       "      <td>UNG</td>\n",
       "      <td>0.002283</td>\n",
       "    </tr>\n",
       "    <tr>\n",
       "      <th>3511404</th>\n",
       "      <td>POLR2A</td>\n",
       "      <td>RNASEH2A</td>\n",
       "      <td>0.001305</td>\n",
       "    </tr>\n",
       "  </tbody>\n",
       "</table>\n",
       "</div>"
      ],
      "text/plain": [
       "             TF    target  importance\n",
       "1203230  POLR2A       UNG    0.002283\n",
       "3511404  POLR2A  RNASEH2A    0.001305"
      ]
     },
     "execution_count": 297,
     "metadata": {},
     "output_type": "execute_result"
    }
   ],
   "source": [
    "pd.concat(\n",
    "    [adjacencies[(adjacencies.TF == 'POLR2A') & (adjacencies.target == 'UNG')],\n",
    "     adjacencies[(adjacencies.TF == 'POLR2A') & (adjacencies.target == 'RNASEH2A')]\n",
    "    ],axis=0\n",
    ")    "
   ]
  },
  {
   "cell_type": "code",
   "execution_count": 167,
   "metadata": {},
   "outputs": [
    {
     "data": {
      "text/html": [
       "<table border=\"1\" class=\"dataframe\">\n",
       "  <thead>\n",
       "    <tr style=\"text-align: right;\">\n",
       "      <th></th>\n",
       "      <th>name</th>\n",
       "      <th>count</th>\n",
       "      <th>logo</th>\n",
       "    </tr>\n",
       "  </thead>\n",
       "  <tbody>\n",
       "  </tbody>\n",
       "</table>"
      ],
      "text/plain": [
       "<IPython.core.display.HTML object>"
      ]
     },
     "metadata": {},
     "output_type": "display_data"
    }
   ],
   "source": [
    "MAX_COL_WIDTH = pd.get_option('display.max_colwidth')\n",
    "pd.set_option('display.max_colwidth', -1)\n",
    "display(HTML(df_regulons[df_regulons.name == 'DDIT3'].to_html(escape=False)))\n",
    "pd.set_option('display.max_colwidth', MAX_COL_WIDTH)"
   ]
  },
  {
   "cell_type": "code",
   "execution_count": 298,
   "metadata": {},
   "outputs": [
    {
     "data": {
      "text/html": [
       "<div>\n",
       "<style scoped>\n",
       "    .dataframe tbody tr th:only-of-type {\n",
       "        vertical-align: middle;\n",
       "    }\n",
       "\n",
       "    .dataframe tbody tr th {\n",
       "        vertical-align: top;\n",
       "    }\n",
       "\n",
       "    .dataframe thead th {\n",
       "        text-align: right;\n",
       "    }\n",
       "</style>\n",
       "<table border=\"1\" class=\"dataframe\">\n",
       "  <thead>\n",
       "    <tr style=\"text-align: right;\">\n",
       "      <th></th>\n",
       "      <th>TF</th>\n",
       "      <th>target</th>\n",
       "      <th>importance</th>\n",
       "    </tr>\n",
       "  </thead>\n",
       "  <tbody>\n",
       "    <tr>\n",
       "      <th>2613512</th>\n",
       "      <td>DDIT3</td>\n",
       "      <td>UNG</td>\n",
       "      <td>0.001543</td>\n",
       "    </tr>\n",
       "    <tr>\n",
       "      <th>7842277</th>\n",
       "      <td>DDIT3</td>\n",
       "      <td>RNASEH2A</td>\n",
       "      <td>0.000756</td>\n",
       "    </tr>\n",
       "  </tbody>\n",
       "</table>\n",
       "</div>"
      ],
      "text/plain": [
       "            TF    target  importance\n",
       "2613512  DDIT3       UNG    0.001543\n",
       "7842277  DDIT3  RNASEH2A    0.000756"
      ]
     },
     "execution_count": 298,
     "metadata": {},
     "output_type": "execute_result"
    }
   ],
   "source": [
    "pd.concat(\n",
    "    [adjacencies[(adjacencies.TF == 'DDIT3') & (adjacencies.target == 'UNG')],\n",
    "     adjacencies[(adjacencies.TF == 'DDIT3') & (adjacencies.target == 'RNASEH2A')]\n",
    "    ],axis=0\n",
    ")    "
   ]
  },
  {
   "cell_type": "code",
   "execution_count": 373,
   "metadata": {},
   "outputs": [],
   "source": [
    "# MAX_COL_WIDTH = pd.get_option('display.max_colwidth')\n",
    "# pd.set_option('display.max_colwidth', -1)\n",
    "# display(HTML(df_regulons.head().to_html(escape=False)))\n",
    "# pd.set_option('display.max_colwidth', MAX_COL_WIDTH)"
   ]
  },
  {
   "cell_type": "markdown",
   "metadata": {},
   "source": [
    "### STEP 6: Non-linear projection and clustering\n",
    "\n",
    "In this step a `scanpy.AnnData` object is created containing all metadata and results.\n",
    "\n",
    "First, we select and retain only the most variable genes in the dataset."
   ]
  },
  {
   "cell_type": "markdown",
   "metadata": {},
   "source": [
    "## __PCA + tSNE PROJECTION__"
   ]
  },
  {
   "cell_type": "code",
   "execution_count": 299,
   "metadata": {},
   "outputs": [],
   "source": [
    "sns.set()"
   ]
  },
  {
   "cell_type": "code",
   "execution_count": 300,
   "metadata": {},
   "outputs": [],
   "source": [
    "bdata = ad.AnnData(auc_mtx,adata.obs)"
   ]
  },
  {
   "cell_type": "code",
   "execution_count": 301,
   "metadata": {
    "scrolled": true
   },
   "outputs": [
    {
     "data": {
      "text/plain": [
       "AnnData object with n_obs × n_vars = 4865 × 268\n",
       "    obs: 'time', 'Uracil-45', 'riboG-44', 'riboG-repair', 'Uracil-repair'"
      ]
     },
     "execution_count": 301,
     "metadata": {},
     "output_type": "execute_result"
    }
   ],
   "source": [
    "bdata"
   ]
  },
  {
   "cell_type": "code",
   "execution_count": 302,
   "metadata": {},
   "outputs": [],
   "source": [
    "# sc.pp.highly_variable_genes(adata)\n",
    "# sc.pl.highly_variable_genes(adata)\n",
    "# adata = adata[:, adata.var['highly_variable']]"
   ]
  },
  {
   "cell_type": "markdown",
   "metadata": {},
   "source": [
    "Then we apply a linear-dimensional reduction technique (PCA)."
   ]
  },
  {
   "cell_type": "code",
   "execution_count": 1,
   "metadata": {},
   "outputs": [],
   "source": [
    "# sc.tl.pca(adata, svd_solver='arpack')\n",
    "# sc.pl.pca(adata, color='UNG')"
   ]
  },
  {
   "cell_type": "code",
   "execution_count": 2,
   "metadata": {},
   "outputs": [],
   "source": [
    "# sc.pl.pca_variance_ratio(adata, log=True)"
   ]
  },
  {
   "cell_type": "markdown",
   "metadata": {},
   "source": [
    "Followed by a tSNE projection."
   ]
  },
  {
   "cell_type": "code",
   "execution_count": 4,
   "metadata": {},
   "outputs": [],
   "source": [
    "# sc.tl.tsne(adata)"
   ]
  },
  {
   "cell_type": "code",
   "execution_count": 5,
   "metadata": {},
   "outputs": [],
   "source": [
    "# adata"
   ]
  },
  {
   "cell_type": "code",
   "execution_count": 6,
   "metadata": {},
   "outputs": [],
   "source": [
    "# sc.set_figure_params(frameon=False, dpi=150, fontsize=8)\n",
    "# sc.pl.tsne(adata, color=['time', 'Uracil-45', 'riboG-44', 'riboG-repair', 'Uracil-repair'], \n",
    "# #            title=['GSE115978 - SKCM - Cell types', 'GSE115978 - SKCM - Lesion types',\n",
    "# #                  'GSE115978 - SKCM - {} patients'.format(len(adata.obs.patient_id.unique()))], ncols=3, palette=COLORS,\n",
    "# #           save=''\n",
    "#           )"
   ]
  },
  {
   "cell_type": "markdown",
   "metadata": {},
   "source": [
    "We capture the non-linear projection based on PCA+tSNE for later storage in the loom file."
   ]
  },
  {
   "cell_type": "code",
   "execution_count": 7,
   "metadata": {},
   "outputs": [],
   "source": [
    "# embedding_pca_tsne = pd.DataFrame(adata.obsm['X_tsne'], columns=[['_X', '_Y']], index=adata.obs_names)"
   ]
  },
  {
   "cell_type": "markdown",
   "metadata": {},
   "source": [
    "We add all metadata derived from SCENIC to the `scanpy.AnnData` object."
   ]
  },
  {
   "cell_type": "code",
   "execution_count": 8,
   "metadata": {},
   "outputs": [],
   "source": [
    "# add_scenic_metadata(adata, auc_mtx, regulons)\n",
    "# adata.write_h5ad(ANNDATA_FNAME)"
   ]
  },
  {
   "cell_type": "markdown",
   "metadata": {},
   "source": [
    "We change the tSNE projection so that it relies on AUCell instead of PCA."
   ]
  },
  {
   "cell_type": "code",
   "execution_count": 9,
   "metadata": {},
   "outputs": [],
   "source": [
    "# sc.tl.tsne(adata, use_rep='X_aucell')"
   ]
  },
  {
   "cell_type": "code",
   "execution_count": 10,
   "metadata": {},
   "outputs": [],
   "source": [
    "# embedding_aucell_tsne = pd.DataFrame(adata.obsm['X_tsne'], columns=[['_X', '_Y']], index=adata.obs_names)"
   ]
  },
  {
   "cell_type": "code",
   "execution_count": 11,
   "metadata": {},
   "outputs": [],
   "source": [
    "# sc.set_figure_params(frameon=False, dpi=150, fontsize=8)\n",
    "# sc.pl.tsne(adata, color=['time', 'Uracil-45', 'riboG-44', 'riboG-repair', 'Uracil-repair'], \n",
    "# #            title=['GSE103322 - HNSC - Cell types', 'GSE103322 - HNSC - Lesion types',\n",
    "# #                  'GSE103322 - HNSC - {} patients'.format(len(adata.obs.patient_id.unique()))], ncols=3,\n",
    "# #           save=''\n",
    "#           )"
   ]
  },
  {
   "cell_type": "markdown",
   "metadata": {},
   "source": [
    "__CELL TYPE SPECIFIC REGULATORS - RSS__"
   ]
  },
  {
   "cell_type": "code",
   "execution_count": 12,
   "metadata": {},
   "outputs": [],
   "source": [
    "# auc_mtx = pd.read_csv(f'{AUCELL_MTX_FNAME}',index_col='Cell')"
   ]
  },
  {
   "cell_type": "code",
   "execution_count": 13,
   "metadata": {},
   "outputs": [],
   "source": [
    "# rss_rG = regulon_specificity_scores(auc_mtx, adata.obs['riboG-repair'])\n",
    "# rss_rG.head()"
   ]
  },
  {
   "cell_type": "code",
   "execution_count": 14,
   "metadata": {},
   "outputs": [],
   "source": [
    "# rss_dU = regulon_specificity_scores(auc_mtx, adata.obs['Uracil-repair'])\n",
    "# rss_dU.head()"
   ]
  },
  {
   "cell_type": "code",
   "execution_count": 15,
   "metadata": {},
   "outputs": [],
   "source": [
    "# rss = regulon_specificity_scores(auc_mtx, adata.obs['time'])\n",
    "# rss.head()"
   ]
  },
  {
   "cell_type": "code",
   "execution_count": 16,
   "metadata": {},
   "outputs": [],
   "source": [
    "# help(plot_rss)"
   ]
  },
  {
   "cell_type": "code",
   "execution_count": 17,
   "metadata": {},
   "outputs": [],
   "source": [
    "# sns.set()\n",
    "# sns.set(style='whitegrid', font_scale=0.8)\n",
    "# fig, ((ax1, ax2, ax3, ax4), (ax5, ax6, ax7, ax8)) = plt.subplots(2, 4, figsize=(8, 6), dpi=100)\n",
    "# plot_rss(rss_rG, 'low', ax=ax1)\n",
    "# ax1.set_xlabel('')\n",
    "# plot_rss(rss_rG, 'high', ax=ax2)\n",
    "# ax2.set_xlabel('')\n",
    "# ax2.set_ylabel('')\n",
    "# plot_rss(rss_dU, 'low', ax=ax3)\n",
    "# ax3.set_xlabel('')\n",
    "# ax3.set_ylabel('')\n",
    "# plot_rss(rss_dU, 'high', ax=ax4)\n",
    "# ax4.set_xlabel('')\n",
    "# ax4.set_ylabel('')\n",
    "# plot_rss(rss, 15, ax=ax5)\n",
    "# plot_rss(rss, 30, ax=ax6)\n",
    "# ax6.set_ylabel('')\n",
    "# plot_rss(rss, 60, ax=ax7)\n",
    "# ax7.set_ylabel('')\n",
    "# # plot_rss(rss, 60, ax=ax8)\n",
    "# # ax8.set_ylabel('')\n",
    "# plt.tight_layout()\n",
    "# # FIGURES_FOLDERNAME\n",
    "# fig.savefig(os.path.join(FIGURES_FOLDERNAME, 'rss.pdf'), format='pdf')"
   ]
  },
  {
   "cell_type": "markdown",
   "metadata": {},
   "source": [
    "__CELL TYPE SPECIFIC REGULATORS - Z-SCORE__\n",
    "\n",
    "To find cell type specific regulators we use a Z score (i.e. the average AUCell score for the cells of a give type are standardized using the overall average AUCell scores and its standard deviation)."
   ]
  },
  {
   "cell_type": "code",
   "execution_count": 18,
   "metadata": {},
   "outputs": [],
   "source": [
    "# def make_df_results(group):\n",
    "#     df_obs = adata.obs\n",
    "#     signature_column_names = list(df_obs.select_dtypes('number').columns)\n",
    "#     signature_column_names = list(filter(lambda s: s.startswith('Regulon('), signature_column_names))\n",
    "#     df_scores = df_obs[signature_column_names + [group]]\n",
    "#     df_results = ((df_scores.groupby(by=group).mean() - df_obs[signature_column_names].mean())/ df_obs[signature_column_names].std()).stack().reset_index().rename(columns={'level_1': 'regulon', 0:'Z'})\n",
    "#     df_results['regulon'] = list(map(lambda s: s[8:-1], df_results.regulon))\n",
    "    \n",
    "#     return df_results"
   ]
  },
  {
   "cell_type": "code",
   "execution_count": 19,
   "metadata": {},
   "outputs": [],
   "source": [
    "# df_results_by_time = make_df_results('time')"
   ]
  },
  {
   "cell_type": "code",
   "execution_count": 20,
   "metadata": {},
   "outputs": [],
   "source": [
    "# df_results_by_rG = make_df_results('riboG-repair')\n",
    "\n",
    "# df_results_by_rG[(abs(df_results_by_rG.Z) >= 0.27)].sort_values('Z', ascending=False)"
   ]
  },
  {
   "cell_type": "code",
   "execution_count": 21,
   "metadata": {
    "scrolled": true
   },
   "outputs": [],
   "source": [
    "# df_results_by_dU = make_df_results('Uracil-repair')\n",
    "\n",
    "# df_results_by_dU[(abs(df_results_by_dU.Z) >= 0.35)].sort_values('Z', ascending=False)"
   ]
  },
  {
   "cell_type": "code",
   "execution_count": 22,
   "metadata": {
    "scrolled": false
   },
   "outputs": [],
   "source": [
    "# for phenotype in ['Uracil-repair','riboG-repair']:\n",
    "#     for size in ['low','high']:\n",
    "#         for time in [15,30,60]:\n",
    "#             fig, ax = plt.subplots(1, 1, figsize=(3, 3), dpi=100)\n",
    "#             sc.pl.tsne(\n",
    "#                 adata[(adata.obs.time == time) & (adata.obs[phenotype] == size)],\n",
    "#                 color='Regulon(DDIT3(+))',\n",
    "#                 title=f'DDIT3(+) at {str(time)}\\' - {size} {phenotype}',\n",
    "#                 use_raw=False,ax=ax\n",
    "#             # #     save=''\n",
    "#             )"
   ]
  },
  {
   "cell_type": "code",
   "execution_count": 23,
   "metadata": {
    "scrolled": false
   },
   "outputs": [],
   "source": [
    "# for phenotype in ['Uracil-repair','riboG-repair']:\n",
    "#     for size in ['low','high']:\n",
    "#         for time in [15,30,60]:\n",
    "#             fig, ax = plt.subplots(1, 1, figsize=(3, 3), dpi=100)\n",
    "#             sc.pl.tsne(\n",
    "#                 adata[(adata.obs.time == time) & (adata.obs[phenotype] == size)],\n",
    "#                 color='Regulon(POLR2A(+))',\n",
    "#                 title=f'POLR2A(+) at {str(time)}\\' - {size} {phenotype}',\n",
    "#                 use_raw=False,ax=ax\n",
    "#             # #     save=''\n",
    "#             )"
   ]
  },
  {
   "cell_type": "markdown",
   "metadata": {},
   "source": [
    "### STEP 7: Export to SCope"
   ]
  },
  {
   "cell_type": "code",
   "execution_count": 321,
   "metadata": {},
   "outputs": [],
   "source": [
    "# bin_mtx, thresholds = binarize(auc_mtx)\n",
    "# bin_mtx.to_csv(BIN_MTX_FNAME)\n",
    "# thresholds.to_frame().rename(columns={0:'threshold'}).to_csv(THR_FNAME)"
   ]
  },
  {
   "cell_type": "code",
   "execution_count": 24,
   "metadata": {},
   "outputs": [],
   "source": [
    "# bin_mtx = pd.read_csv(BIN_MTX_FNAME, index_col=0)\n",
    "# thresholds = pd.read_csv(THR_FNAME, index_col=0).threshold"
   ]
  },
  {
   "cell_type": "code",
   "execution_count": 25,
   "metadata": {},
   "outputs": [],
   "source": [
    "# export2loom(adata.to_df(), regulons, LOOM_FNAME,\n",
    "#             cell_annotations=adata.obs['time'].to_dict(),\n",
    "#             embeddings=OrderedDict([('AUCell + tSNE', embedding_aucell_tsne), ('PCA + tSNE', embedding_pca_tsne)]),\n",
    "#             auc_mtx = auc_mtx,\n",
    "#             tree_structure=(),\n",
    "#             nomenclature=\"HGNC\", auc_thresholds=thresholds,\n",
    "#             compress=True)"
   ]
  },
  {
   "cell_type": "markdown",
   "metadata": {},
   "source": [
    "# dynGENIE3"
   ]
  },
  {
   "cell_type": "markdown",
   "metadata": {},
   "source": [
    "- `TS_data` is a list of 3 arrays, each array corresponding to a time series experiment. The number of time points (rows) does not need to be the same in all the experiments, but the number of genes (columns) must be the same.\n",
    "- `time_points` is a list of 3 vectors, containing the corresponding time points.\n",
    "- `decay_rates` is a vector containing gene decay rates.\n",
    "- `genes_names` is a list containing the names of the genes."
   ]
  },
  {
   "cell_type": "code",
   "execution_count": 1,
   "metadata": {},
   "outputs": [
    {
     "name": "stderr",
     "output_type": "stream",
     "text": [
      "/Users/abearab/anaconda3/envs/sc-analysis/lib/python3.6/site-packages/sklearn/utils/deprecation.py:143: FutureWarning: The sklearn.tree.tree module is  deprecated in version 0.22 and will be removed in version 0.24. The corresponding classes / functions should instead be imported from sklearn.tree. Anything that cannot be imported from sklearn.tree is now part of the private API.\n",
      "  warnings.warn(message, FutureWarning)\n"
     ]
    }
   ],
   "source": [
    "from dynGENIE3 import *"
   ]
  },
  {
   "cell_type": "code",
   "execution_count": 2,
   "metadata": {},
   "outputs": [
    {
     "name": "stdout",
     "output_type": "stream",
     "text": [
      "Help on function dynGENIE3 in module dynGENIE3:\n",
      "\n",
      "dynGENIE3(TS_data, time_points, alpha='from_data', SS_data=None, gene_names=None, regulators='all', tree_method='RF', K='sqrt', ntrees=1000, compute_quality_scores=False, save_models=False, nthreads=1)\n",
      "    Computation of tree-based scores for all putative regulatory links.\n",
      "    \n",
      "    Parameters\n",
      "    ----------\n",
      "    \n",
      "    TS_data: list of numpy arrays\n",
      "        List of arrays, where each array contains the gene expression values of one time series experiment. Each row of an array corresponds to a time point and each column corresponds to a gene. The i-th column of each array must correspond to the same gene.\n",
      "    \n",
      "    time_points: list of one-dimensional numpy arrays\n",
      "        List of n vectors, where n is the number of time series (i.e. the number of arrays in TS_data), containing the time points of the different time series. The i-th vector specifies the time points of the i-th time series of TS_data.\n",
      "    \n",
      "    alpha: either 'from_data', a positive number or a vector of positive numbers\n",
      "        Specifies the degradation rate of the different gene expressions. \n",
      "        When alpha = 'from_data', the degradation rate of each gene is estimated from the data, by assuming an exponential decay between the highest and lowest observed expression values.\n",
      "        When alpha is a vector of positive numbers, the i-th element of the vector must specify the degradation rate of the i-th gene.\n",
      "        When alpha is a positive number, all the genes are assumed to have the same degradation rate alpha.\n",
      "        default: 'from_data'\n",
      "    \n",
      "    SS_data: numpy array, optional\n",
      "        Array containing steady-state gene expression values. Each row corresponds to a steady-state condition and each column corresponds to a gene. The i-th column/gene must correspond to the i-th column/gene of each array of TS_data.\n",
      "        default: None\n",
      "    \n",
      "    gene_names: list of strings, optional\n",
      "        List of length p containing the names of the genes, where p is the number of columns/genes in each array of TS_data. The i-th item of gene_names must correspond to the i-th column of each array of TS_data (and the i-th column of SS_data when SS_data is not None).\n",
      "        default: None\n",
      "    \n",
      "    regulators: list of strings, optional\n",
      "        List containing the names of the candidate regulators. When a list of regulators is provided, the names of all the genes must be provided (in gene_names). When regulators is set to 'all', any gene can be a candidate regulator.\n",
      "        default: 'all'\n",
      "    \n",
      "    tree-method: 'RF' or 'ET', optional\n",
      "        Specifies which tree-based procedure is used: either Random Forest ('RF') or Extra-Trees ('ET')\n",
      "        default: 'RF'\n",
      "    \n",
      "    K: 'sqrt', 'all' or a positive integer, optional\n",
      "        Specifies the number of selected attributes at each node of one tree: either the square root of the number of candidate regulators ('sqrt'), the number of candidate regulators ('all'), or any positive integer.\n",
      "        default: 'sqrt'\n",
      "     \n",
      "    ntrees: positive integer, optional\n",
      "        Specifies the number of trees grown in an ensemble.\n",
      "        default: 1000\n",
      "    \n",
      "    compute_quality_scores: boolean, optional\n",
      "        Indicates if the scores assessing the edge ranking quality must be computed or not. These scores are:\n",
      "        - the score of prediction of out-of-bag samples, i.e. the Pearson correlation between the predicted and true output values. To be able to compute this score, Random Forests must be used (i.e. parameter tree_method must be set to 'RF').\n",
      "        - the stability score, measuring the average stability among the top-5 candidate regulators returned by each tree of a forest.\n",
      "        default: False\n",
      "    \n",
      "    save_models: boolean, optional\n",
      "        Indicates if the tree models (one for each gene) must be saved or not.\n",
      "    \n",
      "    nthreads: positive integer, optional\n",
      "        Number of threads used for parallel computing\n",
      "        default: 1\n",
      "    \n",
      "    \n",
      "    Returns\n",
      "    -------\n",
      "    \n",
      "    A tuple (VIM, alphas, prediction_score, stability_score, treeEstimators).\n",
      "    \n",
      "    VIM: array in which the element (i,j) is the score of the edge directed from the i-th gene to the j-th gene. All diagonal elements are set to zero (auto-regulations are not considered). When a list of candidate regulators is provided, all the edges directed from a gene that is not a candidate regulator are set to zero.\n",
      "    \n",
      "    alphas: vector in which the i-th element is the degradation rate of the i-th gene.\n",
      "    \n",
      "    prediction_score: prediction score on out-of-bag samples (averaged over all genes and all trees). prediction_score is an empty list if compute_quality_scores is set to False or if tree_method is not set to 'RF'.\n",
      "    \n",
      "    stability_score: stability score (averaged over all genes). stability_score is an empty list if compute_quality_scores is set to False.\n",
      "    \n",
      "    treeEstimators: list of tree models, where the i-th model is the model predicting the expression of the i-th gene. treeEstimators is an empty list if save_models is set to False.\n",
      "\n"
     ]
    }
   ],
   "source": [
    "help(dynGENIE3)"
   ]
  },
  {
   "cell_type": "code",
   "execution_count": 3,
   "metadata": {},
   "outputs": [
    {
     "name": "stdout",
     "output_type": "stream",
     "text": [
      "Help on function dynGENIE3_predict_doubleKO in module dynGENIE3:\n",
      "\n",
      "dynGENIE3_predict_doubleKO(expr_WT, treeEstimators, alpha, gene_names, regulators, KO1_gene, KO2_gene, nTimePoints, deltaT)\n",
      "    Prediction of gene expressions in a double knockout experiment.\n",
      "    \n",
      "    Parameters\n",
      "    ----------\n",
      "    \n",
      "    expr_WT: vector containing the gene expressions in the wild-type.\n",
      "    \n",
      "    treeEstimators: list of tree models, as returned by the function dynGENIE3(), where the i-th model is the model predicting the expression of the i-th gene. \n",
      "        The i-th model must correspond to the i-th gene in expr_WT.\n",
      "    \n",
      "    alpha: a positive number or a vector of positive numbers\n",
      "        Specifies the degradation rate of the different gene expressions. \n",
      "        When alpha is a vector of positives, the i-th element of the vector must specify the degradation rate of the i-th gene.\n",
      "        When alpha is a positive number, all the genes are assumed to have the same degradation rate.\n",
      "    \n",
      "    gene_names: list of strings\n",
      "        List containing the names of the genes. The i-th item of gene_names must correspond to the i-th gene in expr_WT.\n",
      "    \n",
      "    regulators: list of strings\n",
      "        List containing the names of the candidate regulators. When regulators is set to 'all', any gene can be a candidate regulator.\n",
      "        Note that the candidate regulators must be the same as the ones used when calling the function dynGENIE3().\n",
      "    \n",
      "    KO1_gene: name of the first knocked-out gene.\n",
      "    \n",
      "    KO2_gene: name of the second knocked-out gene.\n",
      "    \n",
      "    nTimePoints: integer\n",
      "        Specifies the number of time points for which to make a prediction.\n",
      "    \n",
      "    deltaT: a positive number\n",
      "        Specifies the (constant) time interval between two predictions.\n",
      "    \n",
      "    \n",
      "    \n",
      "    Returns\n",
      "    -------\n",
      "    \n",
      "    An array in which the element (t,i) is the predicted expression of the i-th gene at the t-th time point.\n",
      "    The first row of the array contains the initial gene expressions (i.e. the expressions in expr_WT), where the expressions of the two knocked-out genes are set to 0.\n",
      "\n"
     ]
    }
   ],
   "source": [
    "help(dynGENIE3_predict_doubleKO)"
   ]
  },
  {
   "cell_type": "code",
   "execution_count": null,
   "metadata": {},
   "outputs": [],
   "source": [
    "(VIM, alphas, prediction_score, stability_score, treeEstimators) = dynGENIE3(TS_data,time_points)"
   ]
  },
  {
   "cell_type": "markdown",
   "metadata": {},
   "source": [
    "- `VIM` is an array containing the scores of the putative regulatory links. $VIM(i,j)$\n",
    "is the weight of the link directed from the $i$-th gene to $j$-th gene.\n",
    "- `alphas` is a vector in which the i-th element is the decay rate of the $i$-th gene. By default, the decay rate αi of gene i is estimated from its time series data, by assuming an exponential decay $e^{{−α}_it}$ between the highest and lowest observed expression values of gene i.\n",
    "- `prediction_score` is an empty list by default.\n",
    "- `stability_score` is an empty list by default.\n",
    "- `treeEstimators` is an empty list by default."
   ]
  }
 ],
 "metadata": {
  "kernelspec": {
   "display_name": "Python [conda env:sc-net]",
   "language": "python",
   "name": "conda-env-sc-net-py"
  },
  "language_info": {
   "codemirror_mode": {
    "name": "ipython",
    "version": 3
   },
   "file_extension": ".py",
   "mimetype": "text/x-python",
   "name": "python",
   "nbconvert_exporter": "python",
   "pygments_lexer": "ipython3",
   "version": "3.7.10"
  }
 },
 "nbformat": 4,
 "nbformat_minor": 4
}
