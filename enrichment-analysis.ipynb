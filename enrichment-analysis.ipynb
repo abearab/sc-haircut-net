{
 "cells": [
  {
   "cell_type": "markdown",
   "metadata": {},
   "source": [
    "> [Amanda L Richer, Kent A Riemondy, Lakotah Hardie, Jay R Hesselberth, **Simultaneous measurement of biochemical phenotypes and gene expression in single cells**, *Nucleic Acids Research*, (2020)](https://doi.org/10.1093/nar/gkaa240)\n",
    "\n",
    "> **Dataset:** Cell line models targeted with CRISPR technology and UNG<sup>KO</sup> and RNASEH2C<sup>KO</sup> used for single cell RNA experssion experiments (haicut-seq) in 3 timepoints. \n",
    "> - **Cell line:** Hap1 UNG<sup>KO</sup> (HZGHC001531c012) and RNASEH2C<sup>KO</sup> (HZGHC004633c003) cells.\n"
   ]
  },
  {
   "cell_type": "markdown",
   "metadata": {},
   "source": [
    "**Aim:**"
   ]
  },
  {
   "cell_type": "markdown",
   "metadata": {},
   "source": [
    "# Enrichment analysis \n",
    "- main package https://github.com/goodarzilab/PAGE\n",
    "- pythonic version https://github.com/artemy-bakulin/ipage\n",
    "- my scripts for downstream analysis https://github.com/abearab/ipage-down\n",
    "\n",
    "<!-- Export HTML With Embedded Images\n",
    "https://jupyter-contrib-nbextensions.readthedocs.io/en/latest/nbextensions/export_embedded/readme.html -->"
   ]
  },
  {
   "cell_type": "code",
   "execution_count": 3,
   "metadata": {},
   "outputs": [
    {
     "name": "stdout",
     "output_type": "stream",
     "text": [
      "/rumi/shams/abe/Projects/sc-haircut-net/deseq\n"
     ]
    }
   ],
   "source": [
    "cd deseq/"
   ]
  },
  {
   "cell_type": "markdown",
   "metadata": {},
   "source": [
    "<!-- # dU high vs. dU low \n",
    "at 60 minutes -->"
   ]
  },
  {
   "cell_type": "markdown",
   "metadata": {},
   "source": [
    "<!-- # dU+ at 60 minutes vs. dU+ at 15 minutes\n",
    "\n",
    "!bash ~/Projects/ipage-down/ipage.sh delta_dU_60_vs_15.txt  -->"
   ]
  },
  {
   "cell_type": "markdown",
   "metadata": {},
   "source": [
    "# 1. rG high vs. rG low at 60 minutes"
   ]
  },
  {
   "cell_type": "markdown",
   "metadata": {},
   "source": [
    "<!-- ### [H: hallmark gene sets](http://www.gsea-msigdb.org/gsea/msigdb/collections.jsp#C7)\n",
    "<img src=\"deseq/delta_rG_60/human_h_gs.all.png\" width=\"800\" align=\"center\"/>\n",
    " -->\n",
    "<!-- ### [C1: positional gene sets](http://www.gsea-msigdb.org/gsea/msigdb/collections.jsp#C1)\n",
    "<img src=\"deseq/delta_rG_60/human_c1_gs.all.png\" width=\"800\" align=\"center\"/> -->\n",
    "\n",
    "### [C2: curated gene sets](http://www.gsea-msigdb.org/gsea/msigdb/collections.jsp#C2)\n",
    "<!-- <img src=\"deseq/delta_rG_60/human_c2_gs.all.png\" width=\"800\" align=\"center\"/> -->\n",
    "<img src=\"deseq/delta_rG_60/human_c2_gs.R.png\" width=\"800\" align=\"center\"/>\n",
    "<img src=\"deseq/delta_rG_60/human_c2_gs.L.png\" width=\"800\" align=\"center\"/>\n"
   ]
  },
  {
   "cell_type": "markdown",
   "metadata": {},
   "source": [
    "### [C3: regulatory target gene sets](http://www.gsea-msigdb.org/gsea/msigdb/collections.jsp#C3)\n",
    "<!-- <img src=\"deseq/delta_rG_60/human_c3_gs.L.png\" width=\"800\" align=\"center\"/> -->\n",
    "<img src=\"deseq/delta_rG_60/human_c3_gs.R.png\" width=\"800\" align=\"center\"/>"
   ]
  },
  {
   "cell_type": "markdown",
   "metadata": {},
   "source": [
    "### [C5: ontology gene sets](http://www.gsea-msigdb.org/gsea/msigdb/collections.jsp#C5)\n",
    "<img src=\"deseq/delta_rG_60/human_c5_gs.L.png\" width=\"800\" align=\"center\"/>\n",
    "<!-- <img src=\"deseq/delta_rG_60/human_c5_gs.R.png\" width=\"800\" align=\"center\"/> -->"
   ]
  },
  {
   "cell_type": "markdown",
   "metadata": {},
   "source": [
    "### [C7: immunologic signature gene sets](http://www.gsea-msigdb.org/gsea/msigdb/collections.jsp#C7)\n",
    "<img src=\"deseq/delta_rG_60/human_c7_gs.L.png\" width=\"800\" align=\"center\"/>\n",
    "<!-- <img src=\"deseq/delta_rG_60/human_c7_gs.R.png\" width=\"800\" align=\"center\"/> -->\n",
    "\n",
    "<!-- ### human_gs_RBPs_by_3UTR\n",
    "<img src=\"deseq/delta_rG_60/human_gs_RBPs_by_3UTR.R.png\" width=\"800\" align=\"center\"/> -->"
   ]
  },
  {
   "cell_type": "markdown",
   "metadata": {},
   "source": [
    "# 2. rG high at 60 minutes vs. rG high at 15 minutes"
   ]
  },
  {
   "cell_type": "markdown",
   "metadata": {},
   "source": [
    "### [C1: positional gene sets](http://www.gsea-msigdb.org/gsea/msigdb/collections.jsp#C1)\n",
    "<img src=\"deseq/delta_rG_60_vs_15/human_c1_gs.all.png\" width=\"800\" align=\"center\"/>"
   ]
  },
  {
   "cell_type": "markdown",
   "metadata": {},
   "source": [
    "### [C2: curated gene sets](http://www.gsea-msigdb.org/gsea/msigdb/collections.jsp#C2)\n",
    "<img src=\"deseq/delta_rG_60_vs_15/human_c2_gs.R.png\" width=\"800\" align=\"center\"/>\n",
    "<img src=\"deseq/delta_rG_60_vs_15/human_c2_gs.L.png\" width=\"800\" align=\"center\"/>"
   ]
  },
  {
   "cell_type": "markdown",
   "metadata": {},
   "source": [
    "### [C3: regulatory target gene sets](http://www.gsea-msigdb.org/gsea/msigdb/collections.jsp#C3)\n",
    "<img src=\"deseq/delta_rG_60_vs_15/human_c3_gs.R.png\" width=\"800\" align=\"center\"/>"
   ]
  },
  {
   "cell_type": "markdown",
   "metadata": {},
   "source": [
    "### [C4: computational gene sets](http://www.gsea-msigdb.org/gsea/msigdb/collections.jsp#C4)\n",
    "<img src=\"deseq/delta_rG_60_vs_15/human_c4_gs.R.png\" width=\"800\" align=\"center\"/>"
   ]
  },
  {
   "cell_type": "markdown",
   "metadata": {},
   "source": [
    "### [C5: ontology gene sets](http://www.gsea-msigdb.org/gsea/msigdb/collections.jsp#C5)\n",
    "<!-- <img src=\"deseq/delta_rG_60_vs_15/human_c5_gs.R.png\" width=\"800\" align=\"center\"/> -->\n",
    "<img src=\"deseq/delta_rG_60_vs_15/human_c5_gs.L.png\" width=\"800\" align=\"center\"/>"
   ]
  },
  {
   "cell_type": "markdown",
   "metadata": {},
   "source": [
    "### [C7: immunologic signature gene sets](http://www.gsea-msigdb.org/gsea/msigdb/collections.jsp#C7)\n",
    "<!-- <img src=\"deseq/delta_rG_60_vs_15/human_c7_gs.R.png\" width=\"800\" align=\"center\"/> -->\n",
    "<img src=\"deseq/delta_rG_60_vs_15/human_c7_gs.L.png\" width=\"800\" align=\"center\"/>\n",
    "\n",
    "<!-- ### human_gs_RBPs_by_5UTR\n",
    "\n",
    "<img src=\"deseq/delta_rG_60_vs_15/human_gs_RBPs_by_5UTR.all.png\" width=\"800\" align=\"center\"/> -->"
   ]
  },
  {
   "cell_type": "markdown",
   "metadata": {},
   "source": [
    "# 3. dU high vs. dU low at 60 minutes"
   ]
  },
  {
   "cell_type": "markdown",
   "metadata": {},
   "source": [
    "### [H: hallmark gene sets](http://www.gsea-msigdb.org/gsea/msigdb/collections.jsp#C7)\n",
    "<img src=\"deseq/delta_dU_60/human_h_gs.all.png\" width=\"800\" align=\"center\"/>"
   ]
  },
  {
   "cell_type": "markdown",
   "metadata": {},
   "source": [
    "### [C1: positional gene sets](http://www.gsea-msigdb.org/gsea/msigdb/collections.jsp#C1)\n",
    "<img src=\"deseq/delta_dU_60/human_c1_gs.all.png\" width=\"800\" align=\"center\"/>"
   ]
  },
  {
   "cell_type": "markdown",
   "metadata": {},
   "source": [
    "### [C2: curated gene sets](http://www.gsea-msigdb.org/gsea/msigdb/collections.jsp#C2)\n",
    "<!-- <img src=\"deseq/delta_dU_60/human_c2_gs.all.png\" width=\"800\" align=\"center\"/> -->\n",
    "<!-- <img src=\"deseq/delta_dU_60/human_c2_gs.R.png\" width=\"800\" align=\"center\"/> -->\n",
    "<img src=\"deseq/delta_dU_60/human_c2_gs.L.png\" width=\"800\" align=\"center\"/>\n"
   ]
  },
  {
   "cell_type": "markdown",
   "metadata": {},
   "source": [
    "### [C3: regulatory target gene sets](http://www.gsea-msigdb.org/gsea/msigdb/collections.jsp#C3)\n",
    "<!-- <img src=\"deseq/delta_dU_60/human_c3_gs.L.png\" width=\"800\" align=\"center\"/> -->\n",
    "<img src=\"deseq/delta_dU_60/human_c3_gs.R.png\" width=\"800\" align=\"center\"/>"
   ]
  },
  {
   "cell_type": "markdown",
   "metadata": {},
   "source": [
    "### [C4: computational gene sets](http://www.gsea-msigdb.org/gsea/msigdb/collections.jsp#C4)\n",
    "<img src=\"deseq/delta_dU_60/human_c4_gs.L.png\" width=\"800\" align=\"center\"/>\n",
    "<!-- <img src=\"deseq/delta_dU_60/human_c4_gs.R.png\" width=\"800\" align=\"center\"/> -->"
   ]
  },
  {
   "cell_type": "markdown",
   "metadata": {},
   "source": [
    "### [C5: ontology gene sets](http://www.gsea-msigdb.org/gsea/msigdb/collections.jsp#C5)\n",
    "<img src=\"deseq/delta_dU_60/human_c5_gs.L.png\" width=\"800\" align=\"center\"/>\n",
    "<!-- <img src=\"deseq/delta_dU_60/human_c5_gs.R.png\" width=\"800\" align=\"center\"/> -->"
   ]
  },
  {
   "cell_type": "markdown",
   "metadata": {},
   "source": [
    "### [C7: immunologic signature gene sets](http://www.gsea-msigdb.org/gsea/msigdb/collections.jsp#C7)\n",
    "<img src=\"deseq/delta_dU_60/human_c7_gs.L.png\" width=\"800\" align=\"center\"/>\n",
    "<img src=\"deseq/delta_dU_60/human_c7_gs.R.png\" width=\"800\" align=\"center\"/>\n",
    "\n",
    "<!-- ### human_gs_RBPs_by_3UTR\n",
    "<img src=\"deseq/delta_rG_60/human_gs_RBPs_by_3UTR.R.png\" width=\"800\" align=\"center\"/> -->"
   ]
  },
  {
   "cell_type": "markdown",
   "metadata": {},
   "source": [
    "# 4. dU high at 60 minutes vs. dU high at 15 minutes"
   ]
  },
  {
   "cell_type": "markdown",
   "metadata": {},
   "source": [
    "### [H: hallmark gene sets](http://www.gsea-msigdb.org/gsea/msigdb/collections.jsp#C7)\n",
    "<img src=\"deseq/delta_dU_60_vs_15/human_h_gs.all.png\" width=\"800\" align=\"center\"/>"
   ]
  },
  {
   "cell_type": "markdown",
   "metadata": {},
   "source": [
    "### [C1: positional gene sets](http://www.gsea-msigdb.org/gsea/msigdb/collections.jsp#C1)\n",
    "<img src=\"deseq/delta_dU_60_vs_15/human_c1_gs.all.png\" width=\"800\" align=\"center\"/>"
   ]
  },
  {
   "cell_type": "markdown",
   "metadata": {},
   "source": [
    "### [C2: curated gene sets](http://www.gsea-msigdb.org/gsea/msigdb/collections.jsp#C2)\n",
    "<img src=\"deseq/delta_dU_60_vs_15/human_c2_gs.R.png\" width=\"800\" align=\"center\"/>\n",
    "<img src=\"deseq/delta_dU_60_vs_15/human_c2_gs.L.png\" width=\"800\" align=\"center\"/>"
   ]
  },
  {
   "cell_type": "markdown",
   "metadata": {},
   "source": [
    "### [C3: regulatory target gene sets](http://www.gsea-msigdb.org/gsea/msigdb/collections.jsp#C3)\n",
    "<img src=\"deseq/delta_dU_60_vs_15/human_c3_gs.R.png\" width=\"800\" align=\"center\"/>\n",
    "<!-- <img src=\"deseq/delta_dU_60_vs_15/human_c3_gs.L.png\" width=\"800\" align=\"center\"/> -->"
   ]
  },
  {
   "cell_type": "markdown",
   "metadata": {},
   "source": [
    "### [C4: computational gene sets](http://www.gsea-msigdb.org/gsea/msigdb/collections.jsp#C4)\n",
    "<!-- <img src=\"deseq/delta_dU_60_vs_15/human_c4_gs.R.png\" width=\"800\" align=\"center\"/> -->\n",
    "<img src=\"deseq/delta_dU_60_vs_15/human_c4_gs.L.png\" width=\"800\" align=\"center\"/>"
   ]
  },
  {
   "cell_type": "markdown",
   "metadata": {},
   "source": [
    "### [C5: ontology gene sets](http://www.gsea-msigdb.org/gsea/msigdb/collections.jsp#C5)\n",
    "<!-- <img src=\"deseq/delta_dU_60_vs_15/human_c5_gs.R.png\" width=\"800\" align=\"center\"/> -->\n",
    "<img src=\"deseq/delta_dU_60_vs_15/human_c5_gs.L.png\" width=\"800\" align=\"center\"/>"
   ]
  },
  {
   "cell_type": "markdown",
   "metadata": {},
   "source": [
    "### [C7: immunologic signature gene sets](http://www.gsea-msigdb.org/gsea/msigdb/collections.jsp#C7)\n",
    "<img src=\"deseq/delta_dU_60_vs_15/human_c7_gs.R.png\" width=\"800\" align=\"center\"/>\n",
    "<img src=\"deseq/delta_dU_60_vs_15/human_c7_gs.L.png\" width=\"800\" align=\"center\"/>"
   ]
  },
  {
   "cell_type": "markdown",
   "metadata": {},
   "source": [
    "### human_gs_RBPs_by_3UTR\n",
    "\n",
    "<img src=\"deseq/delta_dU_60_vs_15/human_gs_RBPs_by_3UTR.all.png\" width=\"800\" align=\"center\"/>"
   ]
  },
  {
   "cell_type": "markdown",
   "metadata": {},
   "source": [
    "# REACROME:"
   ]
  },
  {
   "cell_type": "code",
   "execution_count": 177,
   "metadata": {},
   "outputs": [],
   "source": [
    "from gsea_api.molecular_signatures_db import MolecularSignaturesDatabase\n",
    "\n",
    "msigdb = MolecularSignaturesDatabase('/Users/abearab/datasets/msigdb_v7.2_GMTs/', version=7.2)\n",
    "# msigdb.gene_sets\n",
    "\n",
    "reactome_pathways = msigdb.load('c2.cp.reactome', 'symbols').to_frame()\n",
    "# print(reactome_pathways)"
   ]
  },
  {
   "cell_type": "code",
   "execution_count": 258,
   "metadata": {},
   "outputs": [
    {
     "data": {
      "text/plain": [
       "{'REACTOME_BASE_EXCISION_REPAIR',\n",
       " 'REACTOME_DISPLACEMENT_OF_DNA_GLYCOSYLASE_BY_APEX1',\n",
       " 'REACTOME_DNA_REPAIR'}"
      ]
     },
     "execution_count": 258,
     "metadata": {},
     "output_type": "execute_result"
    }
   ],
   "source": [
    "from reactome2py import analysis, content, utils\n",
    "\n",
    "# REPAIRtoire ?\n",
    "ung = analysis.identifiers(ids='UNG')\n",
    "token = ung['summary']['token']\n",
    "pws = analysis.pathway2df(token)\n",
    "pws = pws[pws['Species identifier'] == '9606'] # Homo sapiens\n",
    "pws = pws['Pathway identifier'].tolist()\n",
    "\n",
    "repair_pws = {'REACTOME_'+ content.discover(pw)['name'].upper().replace(' ','_').replace(',','').replace('(','').replace(')','').replace('_$','') for pw in pws}.intersection(reactome_pathways.index.tolist())\n",
    "\n",
    "repair_pws"
   ]
  },
  {
   "cell_type": "code",
   "execution_count": 257,
   "metadata": {},
   "outputs": [
    {
     "data": {
      "text/html": [
       "<div>\n",
       "<style scoped>\n",
       "    .dataframe tbody tr th:only-of-type {\n",
       "        vertical-align: middle;\n",
       "    }\n",
       "\n",
       "    .dataframe tbody tr th {\n",
       "        vertical-align: top;\n",
       "    }\n",
       "\n",
       "    .dataframe thead th {\n",
       "        text-align: right;\n",
       "    }\n",
       "</style>\n",
       "<table border=\"1\" class=\"dataframe\">\n",
       "  <thead>\n",
       "    <tr style=\"text-align: right;\">\n",
       "      <th></th>\n",
       "      <th>MLH1</th>\n",
       "      <th>DCLRE1A</th>\n",
       "      <th>H3-4</th>\n",
       "      <th>CUL4B</th>\n",
       "      <th>FANCC</th>\n",
       "      <th>UBA7</th>\n",
       "      <th>RAD51C</th>\n",
       "      <th>POLE3</th>\n",
       "      <th>NEIL2</th>\n",
       "      <th>KPNA2</th>\n",
       "      <th>...</th>\n",
       "      <th>PPP4C</th>\n",
       "      <th>TDP1</th>\n",
       "      <th>PPP4R2</th>\n",
       "      <th>POLM</th>\n",
       "      <th>ABL1</th>\n",
       "      <th>POLE4</th>\n",
       "      <th>PNKP</th>\n",
       "      <th>H4C13</th>\n",
       "      <th>ABRAXAS1</th>\n",
       "      <th>LIG3</th>\n",
       "    </tr>\n",
       "  </thead>\n",
       "  <tbody>\n",
       "    <tr>\n",
       "      <th>REACTOME_BASE_EXCISION_REPAIR</th>\n",
       "      <td>False</td>\n",
       "      <td>False</td>\n",
       "      <td>True</td>\n",
       "      <td>False</td>\n",
       "      <td>False</td>\n",
       "      <td>False</td>\n",
       "      <td>False</td>\n",
       "      <td>True</td>\n",
       "      <td>True</td>\n",
       "      <td>False</td>\n",
       "      <td>...</td>\n",
       "      <td>False</td>\n",
       "      <td>False</td>\n",
       "      <td>False</td>\n",
       "      <td>False</td>\n",
       "      <td>False</td>\n",
       "      <td>True</td>\n",
       "      <td>True</td>\n",
       "      <td>True</td>\n",
       "      <td>False</td>\n",
       "      <td>True</td>\n",
       "    </tr>\n",
       "    <tr>\n",
       "      <th>REACTOME_DNA_REPAIR</th>\n",
       "      <td>True</td>\n",
       "      <td>True</td>\n",
       "      <td>True</td>\n",
       "      <td>True</td>\n",
       "      <td>True</td>\n",
       "      <td>True</td>\n",
       "      <td>True</td>\n",
       "      <td>True</td>\n",
       "      <td>True</td>\n",
       "      <td>True</td>\n",
       "      <td>...</td>\n",
       "      <td>True</td>\n",
       "      <td>True</td>\n",
       "      <td>True</td>\n",
       "      <td>True</td>\n",
       "      <td>True</td>\n",
       "      <td>True</td>\n",
       "      <td>True</td>\n",
       "      <td>True</td>\n",
       "      <td>True</td>\n",
       "      <td>True</td>\n",
       "    </tr>\n",
       "    <tr>\n",
       "      <th>REACTOME_DISPLACEMENT_OF_DNA_GLYCOSYLASE_BY_APEX1</th>\n",
       "      <td>False</td>\n",
       "      <td>False</td>\n",
       "      <td>False</td>\n",
       "      <td>False</td>\n",
       "      <td>False</td>\n",
       "      <td>False</td>\n",
       "      <td>False</td>\n",
       "      <td>False</td>\n",
       "      <td>False</td>\n",
       "      <td>False</td>\n",
       "      <td>...</td>\n",
       "      <td>False</td>\n",
       "      <td>False</td>\n",
       "      <td>False</td>\n",
       "      <td>False</td>\n",
       "      <td>False</td>\n",
       "      <td>False</td>\n",
       "      <td>False</td>\n",
       "      <td>False</td>\n",
       "      <td>False</td>\n",
       "      <td>False</td>\n",
       "    </tr>\n",
       "  </tbody>\n",
       "</table>\n",
       "<p>3 rows × 331 columns</p>\n",
       "</div>"
      ],
      "text/plain": [
       "                                                    MLH1  DCLRE1A   H3-4  \\\n",
       "REACTOME_BASE_EXCISION_REPAIR                      False    False   True   \n",
       "REACTOME_DNA_REPAIR                                 True     True   True   \n",
       "REACTOME_DISPLACEMENT_OF_DNA_GLYCOSYLASE_BY_APEX1  False    False  False   \n",
       "\n",
       "                                                   CUL4B  FANCC   UBA7  \\\n",
       "REACTOME_BASE_EXCISION_REPAIR                      False  False  False   \n",
       "REACTOME_DNA_REPAIR                                 True   True   True   \n",
       "REACTOME_DISPLACEMENT_OF_DNA_GLYCOSYLASE_BY_APEX1  False  False  False   \n",
       "\n",
       "                                                   RAD51C  POLE3  NEIL2  \\\n",
       "REACTOME_BASE_EXCISION_REPAIR                       False   True   True   \n",
       "REACTOME_DNA_REPAIR                                  True   True   True   \n",
       "REACTOME_DISPLACEMENT_OF_DNA_GLYCOSYLASE_BY_APEX1   False  False  False   \n",
       "\n",
       "                                                   KPNA2  ...  PPP4C   TDP1  \\\n",
       "REACTOME_BASE_EXCISION_REPAIR                      False  ...  False  False   \n",
       "REACTOME_DNA_REPAIR                                 True  ...   True   True   \n",
       "REACTOME_DISPLACEMENT_OF_DNA_GLYCOSYLASE_BY_APEX1  False  ...  False  False   \n",
       "\n",
       "                                                   PPP4R2   POLM   ABL1  \\\n",
       "REACTOME_BASE_EXCISION_REPAIR                       False  False  False   \n",
       "REACTOME_DNA_REPAIR                                  True   True   True   \n",
       "REACTOME_DISPLACEMENT_OF_DNA_GLYCOSYLASE_BY_APEX1   False  False  False   \n",
       "\n",
       "                                                   POLE4   PNKP  H4C13  \\\n",
       "REACTOME_BASE_EXCISION_REPAIR                       True   True   True   \n",
       "REACTOME_DNA_REPAIR                                 True   True   True   \n",
       "REACTOME_DISPLACEMENT_OF_DNA_GLYCOSYLASE_BY_APEX1  False  False  False   \n",
       "\n",
       "                                                   ABRAXAS1   LIG3  \n",
       "REACTOME_BASE_EXCISION_REPAIR                         False   True  \n",
       "REACTOME_DNA_REPAIR                                    True   True  \n",
       "REACTOME_DISPLACEMENT_OF_DNA_GLYCOSYLASE_BY_APEX1     False  False  \n",
       "\n",
       "[3 rows x 331 columns]"
      ]
     },
     "execution_count": 257,
     "metadata": {},
     "output_type": "execute_result"
    }
   ],
   "source": [
    "genes = reactome_pathways.columns[reactome_pathways.loc[repair_pws,].sum() > 0].tolist()\n",
    "\n",
    "reactome_pathways.loc[repair_pws,genes]"
   ]
  },
  {
   "cell_type": "markdown",
   "metadata": {},
   "source": [
    "https://www.nature.com/articles/s41598-018-28948-z"
   ]
  },
  {
   "cell_type": "code",
   "execution_count": null,
   "metadata": {},
   "outputs": [],
   "source": []
  }
 ],
 "metadata": {
  "kernelspec": {
   "display_name": "Python [conda env:sc-analysis]",
   "language": "python",
   "name": "conda-env-sc-analysis-py"
  },
  "language_info": {
   "codemirror_mode": {
    "name": "ipython",
    "version": 3
   },
   "file_extension": ".py",
   "mimetype": "text/x-python",
   "name": "python",
   "nbconvert_exporter": "python",
   "pygments_lexer": "ipython3",
   "version": "3.6.13"
  }
 },
 "nbformat": 4,
 "nbformat_minor": 4
}
